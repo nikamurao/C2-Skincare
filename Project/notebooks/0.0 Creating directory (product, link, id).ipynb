{
 "cells": [
  {
   "cell_type": "markdown",
   "id": "presidential-explorer",
   "metadata": {},
   "source": [
    "### Extracting product id from the weblinks "
   ]
  },
  {
   "cell_type": "markdown",
   "id": "increasing-bulletin",
   "metadata": {},
   "source": [
    "Necessary step to act as reference for web scraping for reviews"
   ]
  },
  {
   "cell_type": "code",
   "execution_count": 18,
   "id": "amber-audit",
   "metadata": {},
   "outputs": [],
   "source": [
    "#Import necessary libraries\n",
    "import json \n",
    "import re\n",
    "import os\n",
    "import pandas as pd"
   ]
  },
  {
   "cell_type": "code",
   "execution_count": 19,
   "id": "stylish-firmware",
   "metadata": {},
   "outputs": [],
   "source": [
    "with open('../data/raw_data/initial.json', 'r') as file:\n",
    "    raw_data= json.load(file)\n",
    "df=pd.DataFrame.from_dict(raw_data)"
   ]
  },
  {
   "cell_type": "code",
   "execution_count": 20,
   "id": "distant-cassette",
   "metadata": {},
   "outputs": [],
   "source": [
    "df['product_id']=df.weblink.str.partition(sep='grid:')[2]"
   ]
  },
  {
   "cell_type": "code",
   "execution_count": 21,
   "id": "quality-finger",
   "metadata": {},
   "outputs": [
    {
     "data": {
      "text/plain": [
       "Index(['brand', 'name', 'about the product', 'weblink', 'sub_category',\n",
       "       'main_category', 'num_likes', 'img_link', 'price', 'size',\n",
       "       'ingredients', 'rating', 'num_reviews', 'highlights', 'product_name',\n",
       "       'sensitive', 'combination', 'oily', 'normal', 'dry', 'clean',\n",
       "       'cruelty-free', 'vegan', 'skin_concerns', 'excl_ingr', 'best for',\n",
       "       'acids', 'award', 'size_oz', 'size_ml', 'size_g', 'pricepervol',\n",
       "       'highlighted_ingr', 'clinical_results', 'formulation',\n",
       "       'formulation_type', 'richness', 'product_type', 'product_id'],\n",
       "      dtype='object')"
      ]
     },
     "execution_count": 21,
     "metadata": {},
     "output_type": "execute_result"
    }
   ],
   "source": [
    "df.columns"
   ]
  },
  {
   "cell_type": "code",
   "execution_count": 22,
   "id": "banner-district",
   "metadata": {},
   "outputs": [],
   "source": [
    "df_links_id=df[['product_name', 'weblink', 'product_id', 'num_reviews']].copy()"
   ]
  },
  {
   "cell_type": "code",
   "execution_count": 23,
   "id": "abroad-canal",
   "metadata": {},
   "outputs": [],
   "source": [
    "with open('../data/processed_data/combined_data.json', 'r') as file:\n",
    "    raw_data= json.load(file)\n",
    "selected=pd.DataFrame.from_dict(raw_data)"
   ]
  },
  {
   "cell_type": "code",
   "execution_count": 24,
   "id": "accredited-disabled",
   "metadata": {},
   "outputs": [],
   "source": [
    "selected_df= pd.merge(selected, df_links_id, on='product_name', how='left')"
   ]
  },
  {
   "cell_type": "code",
   "execution_count": 25,
   "id": "alleged-suite",
   "metadata": {},
   "outputs": [],
   "source": [
    "selected_df.product_id = selected_df.product_id.str.upper()"
   ]
  },
  {
   "cell_type": "code",
   "execution_count": 30,
   "id": "contrary-pointer",
   "metadata": {},
   "outputs": [
    {
     "data": {
      "text/plain": [
       "Index(['brand', 'product_name', 'product_type', 'num_likes', 'rating',\n",
       "       'num_reviews_x', 'sensitive_type', 'combination_type', 'oily_type',\n",
       "       'normal_type', 'dry_type', 'clean_sephora', 'cruelty_free', 'vegan',\n",
       "       'best_for_skintype', 'award', 'pricepervol', 'highlighted_ingr',\n",
       "       'clinical_results', 'formulation_type', 'richness', 'Acne/Blemishes',\n",
       "       'Anti-Aging', 'Dark Circles', 'Dark spots', 'Dryness',\n",
       "       'Dullness/Uneven Texture', 'Hair Dryness', 'Hydrating',\n",
       "       'Loss of firmness', 'Pores ', 'Redness', 'num_excl_ingr',\n",
       "       'AHA/Glycolic Acid', 'Hyaluronic Acid', 'Salicylic Acid', 'Vitamin C',\n",
       "       'ingr_list', 'weblink', 'num_reviews_y'],\n",
       "      dtype='object')"
      ]
     },
     "execution_count": 30,
     "metadata": {},
     "output_type": "execute_result"
    }
   ],
   "source": [
    "selected_df.columns"
   ]
  },
  {
   "cell_type": "code",
   "execution_count": 31,
   "id": "standing-squad",
   "metadata": {
    "scrolled": true
   },
   "outputs": [
    {
     "data": {
      "text/html": [
       "<div>\n",
       "<style scoped>\n",
       "    .dataframe tbody tr th:only-of-type {\n",
       "        vertical-align: middle;\n",
       "    }\n",
       "\n",
       "    .dataframe tbody tr th {\n",
       "        vertical-align: top;\n",
       "    }\n",
       "\n",
       "    .dataframe thead th {\n",
       "        text-align: right;\n",
       "    }\n",
       "</style>\n",
       "<table border=\"1\" class=\"dataframe\">\n",
       "  <thead>\n",
       "    <tr style=\"text-align: right;\">\n",
       "      <th></th>\n",
       "      <th>brand</th>\n",
       "      <th>product_name</th>\n",
       "    </tr>\n",
       "    <tr>\n",
       "      <th>product_id</th>\n",
       "      <th></th>\n",
       "      <th></th>\n",
       "    </tr>\n",
       "  </thead>\n",
       "  <tbody>\n",
       "    <tr>\n",
       "      <th>P409800</th>\n",
       "      <td>Glow Recipe</td>\n",
       "      <td>Glow Recipe Watermelon Glow PHA +BHA Pore-Tigh...</td>\n",
       "    </tr>\n",
       "    <tr>\n",
       "      <th>P458219</th>\n",
       "      <td>Glow Recipe</td>\n",
       "      <td>Glow Recipe Watermelon Glow PHA +BHA Pore-Tigh...</td>\n",
       "    </tr>\n",
       "    <tr>\n",
       "      <th>P468351</th>\n",
       "      <td>Glow Recipe</td>\n",
       "      <td>Glow Recipe Watermelon Glow PHA +BHA Pore-Tigh...</td>\n",
       "    </tr>\n",
       "    <tr>\n",
       "      <th>P409800</th>\n",
       "      <td>Tatcha</td>\n",
       "      <td>Tatcha Pure One Step Camellia Oil Cleanser</td>\n",
       "    </tr>\n",
       "    <tr>\n",
       "      <th>P409800</th>\n",
       "      <td>goop</td>\n",
       "      <td>goop GOOPGLOW Microderm Instant Glow Exfoliator</td>\n",
       "    </tr>\n",
       "    <tr>\n",
       "      <th>...</th>\n",
       "      <td>...</td>\n",
       "      <td>...</td>\n",
       "    </tr>\n",
       "    <tr>\n",
       "      <th>P418301</th>\n",
       "      <td>KORA Organics</td>\n",
       "      <td>KORA Organics Noni Radiant Eye Oil</td>\n",
       "    </tr>\n",
       "    <tr>\n",
       "      <th>P418301</th>\n",
       "      <td>Peter Thomas Roth</td>\n",
       "      <td>Peter Thomas Roth Water Drench® Hyaluronic Clo...</td>\n",
       "    </tr>\n",
       "    <tr>\n",
       "      <th>P418301</th>\n",
       "      <td>Dr. Dennis Gross Skincare</td>\n",
       "      <td>Dr. Dennis Gross Skincare Hyaluronic Marine De...</td>\n",
       "    </tr>\n",
       "    <tr>\n",
       "      <th>P418301</th>\n",
       "      <td>Dr. Dennis Gross Skincare</td>\n",
       "      <td>Dr. Dennis Gross Skincare Stress SOS Eye Cream...</td>\n",
       "    </tr>\n",
       "    <tr>\n",
       "      <th>P418301</th>\n",
       "      <td>Guerlain</td>\n",
       "      <td>Guerlain Abeille Royale Anti-Aging Eye Cream</td>\n",
       "    </tr>\n",
       "  </tbody>\n",
       "</table>\n",
       "<p>1426 rows × 2 columns</p>\n",
       "</div>"
      ],
      "text/plain": [
       "                                brand  \\\n",
       "product_id                              \n",
       "P409800                   Glow Recipe   \n",
       "P458219                   Glow Recipe   \n",
       "P468351                   Glow Recipe   \n",
       "P409800                        Tatcha   \n",
       "P409800                          goop   \n",
       "...                               ...   \n",
       "P418301                 KORA Organics   \n",
       "P418301             Peter Thomas Roth   \n",
       "P418301     Dr. Dennis Gross Skincare   \n",
       "P418301     Dr. Dennis Gross Skincare   \n",
       "P418301                      Guerlain   \n",
       "\n",
       "                                                 product_name  \n",
       "product_id                                                     \n",
       "P409800     Glow Recipe Watermelon Glow PHA +BHA Pore-Tigh...  \n",
       "P458219     Glow Recipe Watermelon Glow PHA +BHA Pore-Tigh...  \n",
       "P468351     Glow Recipe Watermelon Glow PHA +BHA Pore-Tigh...  \n",
       "P409800            Tatcha Pure One Step Camellia Oil Cleanser  \n",
       "P409800       goop GOOPGLOW Microderm Instant Glow Exfoliator  \n",
       "...                                                       ...  \n",
       "P418301                    KORA Organics Noni Radiant Eye Oil  \n",
       "P418301     Peter Thomas Roth Water Drench® Hyaluronic Clo...  \n",
       "P418301     Dr. Dennis Gross Skincare Hyaluronic Marine De...  \n",
       "P418301     Dr. Dennis Gross Skincare Stress SOS Eye Cream...  \n",
       "P418301          Guerlain Abeille Royale Anti-Aging Eye Cream  \n",
       "\n",
       "[1426 rows x 2 columns]"
      ]
     },
     "execution_count": 31,
     "metadata": {},
     "output_type": "execute_result"
    }
   ],
   "source": [
    "directory= selected_df[['brand', 'product_name']]\n",
    "directory"
   ]
  },
  {
   "cell_type": "code",
   "execution_count": 32,
   "id": "impressed-immune",
   "metadata": {},
   "outputs": [],
   "source": [
    "datapath_data = os.path.join('../data/raw_data', 'productid_directory.csv')\n",
    "if not os.path.exists(datapath_data):\n",
    "    directory.to_csv(datapath_data)"
   ]
  },
  {
   "cell_type": "code",
   "execution_count": 9,
   "id": "suspended-attribute",
   "metadata": {},
   "outputs": [],
   "source": [
    "datapath_data = os.path.join('../data/raw_data', 'pre_selection.json')\n",
    "if not os.path.exists(datapath_data):\n",
    "    selected_df.to_json(datapath_data)"
   ]
  },
  {
   "cell_type": "code",
   "execution_count": null,
   "id": "greek-wings",
   "metadata": {},
   "outputs": [],
   "source": [
    "datapath_data = os.path.join('../data/raw_data', 'data_links_id.json')\n",
    "if not os.path.exists(datapath_data):\n",
    "    df_links_id.to_json(datapath_data)"
   ]
  },
  {
   "cell_type": "markdown",
   "id": "massive-census",
   "metadata": {},
   "source": [
    "______________________________________________________________________"
   ]
  },
  {
   "cell_type": "markdown",
   "id": "conscious-calibration",
   "metadata": {},
   "source": [
    "# Creating full list of product_ids scraped"
   ]
  },
  {
   "cell_type": "code",
   "execution_count": null,
   "id": "promising-corruption",
   "metadata": {},
   "outputs": [],
   "source": [
    "#Storing each raw json file in a dataframe \n",
    "with open('../data/raw_data/cleansers_full.json', 'r') as file:\n",
    "    raw_data= json.load(file)\n",
    "cleansers_raw=pd.DataFrame.from_dict(raw_data)\n",
    "\n",
    "with open('../data/raw_data/eye_products.json', 'r') as file:\n",
    "    raw_data= json.load(file)\n",
    "eyeproducts_raw=pd.DataFrame.from_dict(raw_data)\n",
    "\n",
    "with open('../data/raw_data/moisturizers_full.json', 'r') as file:\n",
    "    raw_data= json.load(file)\n",
    "moisturizers_raw=pd.DataFrame.from_dict(raw_data)\n",
    "\n",
    "with open('../data/raw_data/treatments_full.json', 'r') as file:\n",
    "    raw_data= json.load(file)\n",
    "treatments_raw=pd.DataFrame.from_dict(raw_data)"
   ]
  },
  {
   "cell_type": "code",
   "execution_count": null,
   "id": "basic-analysis",
   "metadata": {},
   "outputs": [],
   "source": [
    "full_df= pd.concat([cleansers_raw, eyeproducts_raw, moisturizers_raw, treatments_raw])"
   ]
  },
  {
   "cell_type": "code",
   "execution_count": null,
   "id": "short-register",
   "metadata": {},
   "outputs": [],
   "source": [
    "full_df['product_id']=full_df.weblink.str.partition(sep='grid:')[2]"
   ]
  },
  {
   "cell_type": "code",
   "execution_count": null,
   "id": "weighted-marking",
   "metadata": {},
   "outputs": [],
   "source": [
    "#Also need to fix number of reviews \n",
    "full_df.drop(full_df[full_df['num_reviews'].isnull()].index, inplace=True)"
   ]
  },
  {
   "cell_type": "code",
   "execution_count": null,
   "id": "hairy-pursuit",
   "metadata": {},
   "outputs": [],
   "source": [
    "#Cleaning num_reviews column\n",
    "full_df.loc[full_df.num_reviews.str.endswith('K'), 'num_reviews']=full_df.loc[full_df.num_reviews.str.endswith('K'), 'num_reviews'].str.strip('K').astype('float64')*1000\n",
    "full_df['num_reviews']=full_df['num_reviews'].astype('int64')"
   ]
  },
  {
   "cell_type": "code",
   "execution_count": null,
   "id": "decimal-prophet",
   "metadata": {},
   "outputs": [],
   "source": [
    "full_df.reset_index(inplace=True)"
   ]
  },
  {
   "cell_type": "code",
   "execution_count": null,
   "id": "scheduled-chrome",
   "metadata": {},
   "outputs": [],
   "source": [
    "full_df.info()"
   ]
  },
  {
   "cell_type": "code",
   "execution_count": null,
   "id": "political-marshall",
   "metadata": {},
   "outputs": [],
   "source": [
    "datapath3 = os.path.join('../data/raw_data', 'preprocessed_full.json')\n",
    "if not os.path.exists(datapath3):\n",
    "    full_df.to_json(datapath3)"
   ]
  },
  {
   "cell_type": "code",
   "execution_count": null,
   "id": "usual-easter",
   "metadata": {},
   "outputs": [],
   "source": []
  },
  {
   "cell_type": "code",
   "execution_count": null,
   "id": "spiritual-oakland",
   "metadata": {},
   "outputs": [],
   "source": [
    "full_df"
   ]
  },
  {
   "cell_type": "code",
   "execution_count": null,
   "id": "alternate-direction",
   "metadata": {},
   "outputs": [],
   "source": [
    "with open('../data/raw_data/full_reviews.json', 'r') as file:\n",
    "    raw_data= json.load(file)\n",
    "reviews=pd.DataFrame.from_dict(raw_data)"
   ]
  },
  {
   "cell_type": "code",
   "execution_count": null,
   "id": "rocky-telling",
   "metadata": {},
   "outputs": [],
   "source": [
    "reviews"
   ]
  },
  {
   "cell_type": "code",
   "execution_count": null,
   "id": "sustained-artwork",
   "metadata": {},
   "outputs": [],
   "source": []
  }
 ],
 "metadata": {
  "kernelspec": {
   "display_name": "Python 3",
   "language": "python",
   "name": "python3"
  },
  "language_info": {
   "codemirror_mode": {
    "name": "ipython",
    "version": 3
   },
   "file_extension": ".py",
   "mimetype": "text/x-python",
   "name": "python",
   "nbconvert_exporter": "python",
   "pygments_lexer": "ipython3",
   "version": "3.8.2"
  }
 },
 "nbformat": 4,
 "nbformat_minor": 5
}
