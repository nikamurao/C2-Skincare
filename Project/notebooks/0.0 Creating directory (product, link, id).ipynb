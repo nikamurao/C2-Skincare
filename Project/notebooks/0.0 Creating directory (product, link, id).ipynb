{
 "cells": [
  {
   "cell_type": "markdown",
   "id": "presidential-explorer",
   "metadata": {},
   "source": [
    "### Extracting product id from the weblinks "
   ]
  },
  {
   "cell_type": "markdown",
   "id": "increasing-bulletin",
   "metadata": {},
   "source": [
    "Necessary step to act as reference for web scraping for reviews"
   ]
  },
  {
   "cell_type": "code",
   "execution_count": null,
   "id": "amber-audit",
   "metadata": {},
   "outputs": [],
   "source": [
    "#Import necessary libraries\n",
    "import json \n",
    "import re\n",
    "import os\n",
    "import pandas as pd"
   ]
  },
  {
   "cell_type": "code",
   "execution_count": null,
   "id": "stylish-firmware",
   "metadata": {},
   "outputs": [],
   "source": [
    "with open('../data/raw_data/initial.json', 'r') as file:\n",
    "    raw_data= json.load(file)\n",
    "df=pd.DataFrame.from_dict(raw_data)"
   ]
  },
  {
   "cell_type": "code",
   "execution_count": null,
   "id": "distant-cassette",
   "metadata": {},
   "outputs": [],
   "source": [
    "df['product_id']=df.weblink.str.partition(sep='grid:')[2]"
   ]
  },
  {
   "cell_type": "code",
   "execution_count": null,
   "id": "quality-finger",
   "metadata": {},
   "outputs": [],
   "source": [
    "df.columns"
   ]
  },
  {
   "cell_type": "code",
   "execution_count": null,
   "id": "opened-thing",
   "metadata": {},
   "outputs": [],
   "source": [
    "df.drop(columns=['index'], inplace=True)"
   ]
  },
  {
   "cell_type": "code",
   "execution_count": null,
   "id": "banner-district",
   "metadata": {},
   "outputs": [],
   "source": [
    "df_links_id=df[['product_name', 'weblink', 'product_id', 'num_reviews']].copy()"
   ]
  },
  {
   "cell_type": "code",
   "execution_count": null,
   "id": "abroad-canal",
   "metadata": {},
   "outputs": [],
   "source": [
    "with open('../data/processed_data/combined_data.json', 'r') as file:\n",
    "    raw_data= json.load(file)\n",
    "selected=pd.DataFrame.from_dict(raw_data)"
   ]
  },
  {
   "cell_type": "code",
   "execution_count": null,
   "id": "accredited-disabled",
   "metadata": {},
   "outputs": [],
   "source": [
    "selected_df= pd.merge(selected, df_links_id, on='product_name', how='left')"
   ]
  },
  {
   "cell_type": "code",
   "execution_count": null,
   "id": "suspended-attribute",
   "metadata": {},
   "outputs": [],
   "source": [
    "datapath_data = os.path.join('../data/raw_data', 'pre_selection.json')\n",
    "if not os.path.exists(datapath_data):\n",
    "    selected_df.to_json(datapath_data)"
   ]
  },
  {
   "cell_type": "code",
   "execution_count": null,
   "id": "greek-wings",
   "metadata": {},
   "outputs": [],
   "source": [
    "datapath_data = os.path.join('../data/raw_data', 'data_links_id.json')\n",
    "if not os.path.exists(datapath_data):\n",
    "    df_links_id.to_json(datapath_data)"
   ]
  },
  {
   "cell_type": "markdown",
   "id": "massive-census",
   "metadata": {},
   "source": [
    "______________________________________________________________________"
   ]
  },
  {
   "cell_type": "markdown",
   "id": "conscious-calibration",
   "metadata": {},
   "source": [
    "# Creating full list of product_ids scraped"
   ]
  },
  {
   "cell_type": "code",
   "execution_count": null,
   "id": "promising-corruption",
   "metadata": {},
   "outputs": [],
   "source": [
    "#Storing each raw json file in a dataframe \n",
    "with open('../data/raw_data/cleansers_full.json', 'r') as file:\n",
    "    raw_data= json.load(file)\n",
    "cleansers_raw=pd.DataFrame.from_dict(raw_data)\n",
    "\n",
    "with open('../data/raw_data/eye_products.json', 'r') as file:\n",
    "    raw_data= json.load(file)\n",
    "eyeproducts_raw=pd.DataFrame.from_dict(raw_data)\n",
    "\n",
    "with open('../data/raw_data/moisturizers_full.json', 'r') as file:\n",
    "    raw_data= json.load(file)\n",
    "moisturizers_raw=pd.DataFrame.from_dict(raw_data)\n",
    "\n",
    "with open('../data/raw_data/treatments_full.json', 'r') as file:\n",
    "    raw_data= json.load(file)\n",
    "treatments_raw=pd.DataFrame.from_dict(raw_data)"
   ]
  },
  {
   "cell_type": "code",
   "execution_count": null,
   "id": "basic-analysis",
   "metadata": {},
   "outputs": [],
   "source": [
    "full_df= pd.concat([cleansers_raw, eyeproducts_raw, moisturizers_raw, treatments_raw])"
   ]
  },
  {
   "cell_type": "code",
   "execution_count": null,
   "id": "short-register",
   "metadata": {},
   "outputs": [],
   "source": [
    "full_df['product_id']=full_df.weblink.str.partition(sep='grid:')[2]"
   ]
  },
  {
   "cell_type": "code",
   "execution_count": null,
   "id": "weighted-marking",
   "metadata": {},
   "outputs": [],
   "source": [
    "#Also need to fix number of reviews \n",
    "full_df.drop(full_df[full_df['num_reviews'].isnull()].index, inplace=True)"
   ]
  },
  {
   "cell_type": "code",
   "execution_count": null,
   "id": "hairy-pursuit",
   "metadata": {},
   "outputs": [],
   "source": [
    "#Cleaning num_reviews column\n",
    "full_df.loc[full_df.num_reviews.str.endswith('K'), 'num_reviews']=full_df.loc[full_df.num_reviews.str.endswith('K'), 'num_reviews'].str.strip('K').astype('float64')*1000\n",
    "full_df['num_reviews']=full_df['num_reviews'].astype('int64')"
   ]
  },
  {
   "cell_type": "code",
   "execution_count": null,
   "id": "decimal-prophet",
   "metadata": {},
   "outputs": [],
   "source": [
    "full_df.reset_index(inplace=True)"
   ]
  },
  {
   "cell_type": "code",
   "execution_count": null,
   "id": "scheduled-chrome",
   "metadata": {},
   "outputs": [],
   "source": [
    "full_df.info()"
   ]
  },
  {
   "cell_type": "code",
   "execution_count": null,
   "id": "political-marshall",
   "metadata": {},
   "outputs": [],
   "source": [
    "datapath3 = os.path.join('../data/raw_data', 'preprocessed_full.json')\n",
    "if not os.path.exists(datapath3):\n",
    "    full_df.to_json(datapath3)"
   ]
  },
  {
   "cell_type": "code",
   "execution_count": null,
   "id": "usual-easter",
   "metadata": {},
   "outputs": [],
   "source": []
  },
  {
   "cell_type": "code",
   "execution_count": null,
   "id": "spiritual-oakland",
   "metadata": {},
   "outputs": [],
   "source": [
    "full_df"
   ]
  },
  {
   "cell_type": "code",
   "execution_count": null,
   "id": "alternate-direction",
   "metadata": {},
   "outputs": [],
   "source": [
    "with open('../data/raw_data/full_reviews.json', 'r') as file:\n",
    "    raw_data= json.load(file)\n",
    "reviews=pd.DataFrame.from_dict(raw_data)"
   ]
  },
  {
   "cell_type": "code",
   "execution_count": null,
   "id": "rocky-telling",
   "metadata": {},
   "outputs": [],
   "source": [
    "reviews"
   ]
  },
  {
   "cell_type": "code",
   "execution_count": null,
   "id": "sustained-artwork",
   "metadata": {},
   "outputs": [],
   "source": []
  }
 ],
 "metadata": {
  "kernelspec": {
   "display_name": "Python 3",
   "language": "python",
   "name": "python3"
  },
  "language_info": {
   "codemirror_mode": {
    "name": "ipython",
    "version": 3
   },
   "file_extension": ".py",
   "mimetype": "text/x-python",
   "name": "python",
   "nbconvert_exporter": "python",
   "pygments_lexer": "ipython3",
   "version": "3.8.2"
  }
 },
 "nbformat": 4,
 "nbformat_minor": 5
}
