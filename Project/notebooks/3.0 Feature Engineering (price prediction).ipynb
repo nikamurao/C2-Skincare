{
 "cells": [
  {
   "cell_type": "markdown",
   "id": "religious-eating",
   "metadata": {},
   "source": [
    "# Feature engineering"
   ]
  },
  {
   "cell_type": "markdown",
   "id": "beginning-bronze",
   "metadata": {},
   "source": [
    "_________________________________________________________________________________"
   ]
  },
  {
   "cell_type": "markdown",
   "id": "passing-table",
   "metadata": {},
   "source": [
    "**Reference file:**\n",
    "- combined_data.json\n",
    "- [reviews]?"
   ]
  },
  {
   "cell_type": "markdown",
   "id": "understanding-element",
   "metadata": {},
   "source": [
    "**Problem:** \n",
    "- Predicting the price or price range of the product"
   ]
  },
  {
   "cell_type": "markdown",
   "id": "running-bacteria",
   "metadata": {},
   "source": [
    "__________________________________________________________________________________"
   ]
  },
  {
   "cell_type": "markdown",
   "id": "apparent-synthetic",
   "metadata": {},
   "source": [
    "## 1.0 Loading file"
   ]
  },
  {
   "cell_type": "code",
   "execution_count": 64,
   "id": "treated-telling",
   "metadata": {},
   "outputs": [],
   "source": [
    "#Import necessary libraries\n",
    "import json \n",
    "import pandas as pd\n",
    "import numpy as np\n",
    "import matplotlib.pyplot as plt\n",
    "import seaborn as sns\n",
    "import os \n",
    "from sklearn.model_selection import train_test_split\n",
    "from sklearn.preprocessing import LabelEncoder\n",
    "from sklearn.preprocessing import StandardScaler"
   ]
  },
  {
   "cell_type": "code",
   "execution_count": 2,
   "id": "subtle-helmet",
   "metadata": {},
   "outputs": [],
   "source": [
    "with open('../data/processed_data/combined_data.json', 'r') as file:\n",
    "    data= json.load(file)\n",
    "df=pd.DataFrame.from_dict(data)"
   ]
  },
  {
   "cell_type": "code",
   "execution_count": 3,
   "id": "understanding-prediction",
   "metadata": {
    "scrolled": false
   },
   "outputs": [
    {
     "data": {
      "text/html": [
       "<div>\n",
       "<style scoped>\n",
       "    .dataframe tbody tr th:only-of-type {\n",
       "        vertical-align: middle;\n",
       "    }\n",
       "\n",
       "    .dataframe tbody tr th {\n",
       "        vertical-align: top;\n",
       "    }\n",
       "\n",
       "    .dataframe thead th {\n",
       "        text-align: right;\n",
       "    }\n",
       "</style>\n",
       "<table border=\"1\" class=\"dataframe\">\n",
       "  <thead>\n",
       "    <tr style=\"text-align: right;\">\n",
       "      <th></th>\n",
       "      <th>0</th>\n",
       "      <th>1</th>\n",
       "      <th>2</th>\n",
       "      <th>3</th>\n",
       "      <th>4</th>\n",
       "    </tr>\n",
       "  </thead>\n",
       "  <tbody>\n",
       "    <tr>\n",
       "      <th>brand</th>\n",
       "      <td>Glow Recipe</td>\n",
       "      <td>Tatcha</td>\n",
       "      <td>goop</td>\n",
       "      <td>CLINIQUE</td>\n",
       "      <td>Tata Harper</td>\n",
       "    </tr>\n",
       "    <tr>\n",
       "      <th>product_name</th>\n",
       "      <td>Glow Recipe Watermelon Glow PHA +BHA Pore-Tigh...</td>\n",
       "      <td>Tatcha Pure One Step Camellia Oil Cleanser</td>\n",
       "      <td>goop GOOPGLOW Microderm Instant Glow Exfoliator</td>\n",
       "      <td>CLINIQUE Take The Day Off Makeup Remover For L...</td>\n",
       "      <td>Tata Harper Regenerating Exfoliating Cleanser</td>\n",
       "    </tr>\n",
       "    <tr>\n",
       "      <th>product_type</th>\n",
       "      <td>toners</td>\n",
       "      <td>face wash and cleansers</td>\n",
       "      <td>exfoliators and peels</td>\n",
       "      <td>face wash and cleansers</td>\n",
       "      <td>face wash and cleansers</td>\n",
       "    </tr>\n",
       "    <tr>\n",
       "      <th>num_likes</th>\n",
       "      <td>125100</td>\n",
       "      <td>107600</td>\n",
       "      <td>12900</td>\n",
       "      <td>76700</td>\n",
       "      <td>31000</td>\n",
       "    </tr>\n",
       "    <tr>\n",
       "      <th>rating</th>\n",
       "      <td>4.5</td>\n",
       "      <td>4.5</td>\n",
       "      <td>4.5</td>\n",
       "      <td>4.5</td>\n",
       "      <td>4.5</td>\n",
       "    </tr>\n",
       "    <tr>\n",
       "      <th>num_reviews</th>\n",
       "      <td>1900</td>\n",
       "      <td>1700</td>\n",
       "      <td>1200</td>\n",
       "      <td>3100</td>\n",
       "      <td>567</td>\n",
       "    </tr>\n",
       "    <tr>\n",
       "      <th>sensitive_type</th>\n",
       "      <td>0</td>\n",
       "      <td>1</td>\n",
       "      <td>0</td>\n",
       "      <td>0</td>\n",
       "      <td>0</td>\n",
       "    </tr>\n",
       "    <tr>\n",
       "      <th>combination_type</th>\n",
       "      <td>1</td>\n",
       "      <td>1</td>\n",
       "      <td>1</td>\n",
       "      <td>0</td>\n",
       "      <td>1</td>\n",
       "    </tr>\n",
       "    <tr>\n",
       "      <th>oily_type</th>\n",
       "      <td>1</td>\n",
       "      <td>1</td>\n",
       "      <td>1</td>\n",
       "      <td>0</td>\n",
       "      <td>0</td>\n",
       "    </tr>\n",
       "    <tr>\n",
       "      <th>normal_type</th>\n",
       "      <td>1</td>\n",
       "      <td>1</td>\n",
       "      <td>1</td>\n",
       "      <td>0</td>\n",
       "      <td>0</td>\n",
       "    </tr>\n",
       "    <tr>\n",
       "      <th>dry_type</th>\n",
       "      <td>1</td>\n",
       "      <td>1</td>\n",
       "      <td>1</td>\n",
       "      <td>1</td>\n",
       "      <td>1</td>\n",
       "    </tr>\n",
       "    <tr>\n",
       "      <th>clean_sephora</th>\n",
       "      <td>1</td>\n",
       "      <td>1</td>\n",
       "      <td>1</td>\n",
       "      <td>0</td>\n",
       "      <td>1</td>\n",
       "    </tr>\n",
       "    <tr>\n",
       "      <th>cruelty_free</th>\n",
       "      <td>0</td>\n",
       "      <td>0</td>\n",
       "      <td>0</td>\n",
       "      <td>0</td>\n",
       "      <td>1</td>\n",
       "    </tr>\n",
       "    <tr>\n",
       "      <th>vegan</th>\n",
       "      <td>0</td>\n",
       "      <td>0</td>\n",
       "      <td>0</td>\n",
       "      <td>0</td>\n",
       "      <td>0</td>\n",
       "    </tr>\n",
       "    <tr>\n",
       "      <th>best_for_skintype</th>\n",
       "      <td>0</td>\n",
       "      <td>1</td>\n",
       "      <td>1</td>\n",
       "      <td>0</td>\n",
       "      <td>1</td>\n",
       "    </tr>\n",
       "    <tr>\n",
       "      <th>award</th>\n",
       "      <td>0</td>\n",
       "      <td>1</td>\n",
       "      <td>0</td>\n",
       "      <td>0</td>\n",
       "      <td>0</td>\n",
       "    </tr>\n",
       "    <tr>\n",
       "      <th>pricepervol</th>\n",
       "      <td>6.706114</td>\n",
       "      <td>9.411765</td>\n",
       "      <td>73.529412</td>\n",
       "      <td>11.83432</td>\n",
       "      <td>24.705882</td>\n",
       "    </tr>\n",
       "    <tr>\n",
       "      <th>highlighted_ingr</th>\n",
       "      <td>Watermelon Extract, Cactus Water, PHA</td>\n",
       "      <td></td>\n",
       "      <td>Micro-exfoliating Minerals (Quartz, Garnet, Al...</td>\n",
       "      <td></td>\n",
       "      <td>Apricot Microspheres, Natural BHA from White W...</td>\n",
       "    </tr>\n",
       "    <tr>\n",
       "      <th>clinical_results</th>\n",
       "      <td>1</td>\n",
       "      <td>0</td>\n",
       "      <td>1</td>\n",
       "      <td>0</td>\n",
       "      <td>0</td>\n",
       "    </tr>\n",
       "    <tr>\n",
       "      <th>formulation_type</th>\n",
       "      <td>liquid</td>\n",
       "      <td>others</td>\n",
       "      <td>others</td>\n",
       "      <td>others</td>\n",
       "      <td>others</td>\n",
       "    </tr>\n",
       "    <tr>\n",
       "      <th>richness</th>\n",
       "      <td>light</td>\n",
       "      <td>normal</td>\n",
       "      <td>normal</td>\n",
       "      <td>normal</td>\n",
       "      <td>normal</td>\n",
       "    </tr>\n",
       "    <tr>\n",
       "      <th>Acne/Blemishes</th>\n",
       "      <td>0</td>\n",
       "      <td>0</td>\n",
       "      <td>0</td>\n",
       "      <td>0</td>\n",
       "      <td>0</td>\n",
       "    </tr>\n",
       "    <tr>\n",
       "      <th>Anti-Aging</th>\n",
       "      <td>0</td>\n",
       "      <td>0</td>\n",
       "      <td>0</td>\n",
       "      <td>0</td>\n",
       "      <td>0</td>\n",
       "    </tr>\n",
       "    <tr>\n",
       "      <th>Dark Circles</th>\n",
       "      <td>0</td>\n",
       "      <td>0</td>\n",
       "      <td>0</td>\n",
       "      <td>0</td>\n",
       "      <td>0</td>\n",
       "    </tr>\n",
       "    <tr>\n",
       "      <th>Dark spots</th>\n",
       "      <td>0</td>\n",
       "      <td>0</td>\n",
       "      <td>0</td>\n",
       "      <td>0</td>\n",
       "      <td>0</td>\n",
       "    </tr>\n",
       "    <tr>\n",
       "      <th>Dryness</th>\n",
       "      <td>0</td>\n",
       "      <td>0</td>\n",
       "      <td>0</td>\n",
       "      <td>0</td>\n",
       "      <td>0</td>\n",
       "    </tr>\n",
       "    <tr>\n",
       "      <th>Dullness/Uneven Texture</th>\n",
       "      <td>1</td>\n",
       "      <td>0</td>\n",
       "      <td>1</td>\n",
       "      <td>0</td>\n",
       "      <td>1</td>\n",
       "    </tr>\n",
       "    <tr>\n",
       "      <th>Hair Dryness</th>\n",
       "      <td>0</td>\n",
       "      <td>0</td>\n",
       "      <td>0</td>\n",
       "      <td>0</td>\n",
       "      <td>0</td>\n",
       "    </tr>\n",
       "    <tr>\n",
       "      <th>Hydrating</th>\n",
       "      <td>1</td>\n",
       "      <td>1</td>\n",
       "      <td>0</td>\n",
       "      <td>0</td>\n",
       "      <td>0</td>\n",
       "    </tr>\n",
       "    <tr>\n",
       "      <th>Loss of firmness</th>\n",
       "      <td>0</td>\n",
       "      <td>0</td>\n",
       "      <td>0</td>\n",
       "      <td>0</td>\n",
       "      <td>0</td>\n",
       "    </tr>\n",
       "    <tr>\n",
       "      <th>Pores</th>\n",
       "      <td>1</td>\n",
       "      <td>0</td>\n",
       "      <td>0</td>\n",
       "      <td>0</td>\n",
       "      <td>0</td>\n",
       "    </tr>\n",
       "    <tr>\n",
       "      <th>Redness</th>\n",
       "      <td>0</td>\n",
       "      <td>0</td>\n",
       "      <td>0</td>\n",
       "      <td>0</td>\n",
       "      <td>0</td>\n",
       "    </tr>\n",
       "    <tr>\n",
       "      <th>num_excl_ingr</th>\n",
       "      <td>0</td>\n",
       "      <td>0</td>\n",
       "      <td>0</td>\n",
       "      <td>0</td>\n",
       "      <td>0</td>\n",
       "    </tr>\n",
       "    <tr>\n",
       "      <th>AHA/Glycolic Acid</th>\n",
       "      <td>0</td>\n",
       "      <td>0</td>\n",
       "      <td>1</td>\n",
       "      <td>0</td>\n",
       "      <td>0</td>\n",
       "    </tr>\n",
       "    <tr>\n",
       "      <th>Hyaluronic Acid</th>\n",
       "      <td>0</td>\n",
       "      <td>0</td>\n",
       "      <td>0</td>\n",
       "      <td>0</td>\n",
       "      <td>0</td>\n",
       "    </tr>\n",
       "    <tr>\n",
       "      <th>Salicylic Acid</th>\n",
       "      <td>1</td>\n",
       "      <td>0</td>\n",
       "      <td>0</td>\n",
       "      <td>0</td>\n",
       "      <td>1</td>\n",
       "    </tr>\n",
       "    <tr>\n",
       "      <th>Vitamin C</th>\n",
       "      <td>0</td>\n",
       "      <td>0</td>\n",
       "      <td>1</td>\n",
       "      <td>0</td>\n",
       "      <td>0</td>\n",
       "    </tr>\n",
       "    <tr>\n",
       "      <th>ingr_list</th>\n",
       "      <td>Opuntia Ficus-Indica (Cactus) Extract, Citrull...</td>\n",
       "      <td>Cetyl Ethylhexanoate, Oryza Sativa (Rice) Bran...</td>\n",
       "      <td>Aqua, Alumina, Glycerin, Cetearyl Alcohol, Gly...</td>\n",
       "      <td>Water, Isohexadecane, Dimethicone, Cyclopentas...</td>\n",
       "      <td>Hordeum Vulgare Leaf Juice, Cetearyl Alcohol, ...</td>\n",
       "    </tr>\n",
       "  </tbody>\n",
       "</table>\n",
       "</div>"
      ],
      "text/plain": [
       "                                                                         0  \\\n",
       "brand                                                          Glow Recipe   \n",
       "product_name             Glow Recipe Watermelon Glow PHA +BHA Pore-Tigh...   \n",
       "product_type                                                        toners   \n",
       "num_likes                                                           125100   \n",
       "rating                                                                 4.5   \n",
       "num_reviews                                                           1900   \n",
       "sensitive_type                                                           0   \n",
       "combination_type                                                         1   \n",
       "oily_type                                                                1   \n",
       "normal_type                                                              1   \n",
       "dry_type                                                                 1   \n",
       "clean_sephora                                                            1   \n",
       "cruelty_free                                                             0   \n",
       "vegan                                                                    0   \n",
       "best_for_skintype                                                        0   \n",
       "award                                                                    0   \n",
       "pricepervol                                                       6.706114   \n",
       "highlighted_ingr                     Watermelon Extract, Cactus Water, PHA   \n",
       "clinical_results                                                         1   \n",
       "formulation_type                                                    liquid   \n",
       "richness                                                             light   \n",
       "Acne/Blemishes                                                           0   \n",
       "Anti-Aging                                                               0   \n",
       "Dark Circles                                                             0   \n",
       "Dark spots                                                               0   \n",
       "Dryness                                                                  0   \n",
       "Dullness/Uneven Texture                                                  1   \n",
       "Hair Dryness                                                             0   \n",
       "Hydrating                                                                1   \n",
       "Loss of firmness                                                         0   \n",
       "Pores                                                                    1   \n",
       "Redness                                                                  0   \n",
       "num_excl_ingr                                                            0   \n",
       "AHA/Glycolic Acid                                                        0   \n",
       "Hyaluronic Acid                                                          0   \n",
       "Salicylic Acid                                                           1   \n",
       "Vitamin C                                                                0   \n",
       "ingr_list                Opuntia Ficus-Indica (Cactus) Extract, Citrull...   \n",
       "\n",
       "                                                                         1  \\\n",
       "brand                                                               Tatcha   \n",
       "product_name                    Tatcha Pure One Step Camellia Oil Cleanser   \n",
       "product_type                                       face wash and cleansers   \n",
       "num_likes                                                           107600   \n",
       "rating                                                                 4.5   \n",
       "num_reviews                                                           1700   \n",
       "sensitive_type                                                           1   \n",
       "combination_type                                                         1   \n",
       "oily_type                                                                1   \n",
       "normal_type                                                              1   \n",
       "dry_type                                                                 1   \n",
       "clean_sephora                                                            1   \n",
       "cruelty_free                                                             0   \n",
       "vegan                                                                    0   \n",
       "best_for_skintype                                                        1   \n",
       "award                                                                    1   \n",
       "pricepervol                                                       9.411765   \n",
       "highlighted_ingr                                                             \n",
       "clinical_results                                                         0   \n",
       "formulation_type                                                    others   \n",
       "richness                                                            normal   \n",
       "Acne/Blemishes                                                           0   \n",
       "Anti-Aging                                                               0   \n",
       "Dark Circles                                                             0   \n",
       "Dark spots                                                               0   \n",
       "Dryness                                                                  0   \n",
       "Dullness/Uneven Texture                                                  0   \n",
       "Hair Dryness                                                             0   \n",
       "Hydrating                                                                1   \n",
       "Loss of firmness                                                         0   \n",
       "Pores                                                                    0   \n",
       "Redness                                                                  0   \n",
       "num_excl_ingr                                                            0   \n",
       "AHA/Glycolic Acid                                                        0   \n",
       "Hyaluronic Acid                                                          0   \n",
       "Salicylic Acid                                                           0   \n",
       "Vitamin C                                                                0   \n",
       "ingr_list                Cetyl Ethylhexanoate, Oryza Sativa (Rice) Bran...   \n",
       "\n",
       "                                                                         2  \\\n",
       "brand                                                                 goop   \n",
       "product_name               goop GOOPGLOW Microderm Instant Glow Exfoliator   \n",
       "product_type                                         exfoliators and peels   \n",
       "num_likes                                                            12900   \n",
       "rating                                                                 4.5   \n",
       "num_reviews                                                           1200   \n",
       "sensitive_type                                                           0   \n",
       "combination_type                                                         1   \n",
       "oily_type                                                                1   \n",
       "normal_type                                                              1   \n",
       "dry_type                                                                 1   \n",
       "clean_sephora                                                            1   \n",
       "cruelty_free                                                             0   \n",
       "vegan                                                                    0   \n",
       "best_for_skintype                                                        1   \n",
       "award                                                                    0   \n",
       "pricepervol                                                      73.529412   \n",
       "highlighted_ingr         Micro-exfoliating Minerals (Quartz, Garnet, Al...   \n",
       "clinical_results                                                         1   \n",
       "formulation_type                                                    others   \n",
       "richness                                                            normal   \n",
       "Acne/Blemishes                                                           0   \n",
       "Anti-Aging                                                               0   \n",
       "Dark Circles                                                             0   \n",
       "Dark spots                                                               0   \n",
       "Dryness                                                                  0   \n",
       "Dullness/Uneven Texture                                                  1   \n",
       "Hair Dryness                                                             0   \n",
       "Hydrating                                                                0   \n",
       "Loss of firmness                                                         0   \n",
       "Pores                                                                    0   \n",
       "Redness                                                                  0   \n",
       "num_excl_ingr                                                            0   \n",
       "AHA/Glycolic Acid                                                        1   \n",
       "Hyaluronic Acid                                                          0   \n",
       "Salicylic Acid                                                           0   \n",
       "Vitamin C                                                                1   \n",
       "ingr_list                Aqua, Alumina, Glycerin, Cetearyl Alcohol, Gly...   \n",
       "\n",
       "                                                                         3  \\\n",
       "brand                                                             CLINIQUE   \n",
       "product_name             CLINIQUE Take The Day Off Makeup Remover For L...   \n",
       "product_type                                       face wash and cleansers   \n",
       "num_likes                                                            76700   \n",
       "rating                                                                 4.5   \n",
       "num_reviews                                                           3100   \n",
       "sensitive_type                                                           0   \n",
       "combination_type                                                         0   \n",
       "oily_type                                                                0   \n",
       "normal_type                                                              0   \n",
       "dry_type                                                                 1   \n",
       "clean_sephora                                                            0   \n",
       "cruelty_free                                                             0   \n",
       "vegan                                                                    0   \n",
       "best_for_skintype                                                        0   \n",
       "award                                                                    0   \n",
       "pricepervol                                                       11.83432   \n",
       "highlighted_ingr                                                             \n",
       "clinical_results                                                         0   \n",
       "formulation_type                                                    others   \n",
       "richness                                                            normal   \n",
       "Acne/Blemishes                                                           0   \n",
       "Anti-Aging                                                               0   \n",
       "Dark Circles                                                             0   \n",
       "Dark spots                                                               0   \n",
       "Dryness                                                                  0   \n",
       "Dullness/Uneven Texture                                                  0   \n",
       "Hair Dryness                                                             0   \n",
       "Hydrating                                                                0   \n",
       "Loss of firmness                                                         0   \n",
       "Pores                                                                    0   \n",
       "Redness                                                                  0   \n",
       "num_excl_ingr                                                            0   \n",
       "AHA/Glycolic Acid                                                        0   \n",
       "Hyaluronic Acid                                                          0   \n",
       "Salicylic Acid                                                           0   \n",
       "Vitamin C                                                                0   \n",
       "ingr_list                Water, Isohexadecane, Dimethicone, Cyclopentas...   \n",
       "\n",
       "                                                                         4  \n",
       "brand                                                          Tata Harper  \n",
       "product_name                 Tata Harper Regenerating Exfoliating Cleanser  \n",
       "product_type                                       face wash and cleansers  \n",
       "num_likes                                                            31000  \n",
       "rating                                                                 4.5  \n",
       "num_reviews                                                            567  \n",
       "sensitive_type                                                           0  \n",
       "combination_type                                                         1  \n",
       "oily_type                                                                0  \n",
       "normal_type                                                              0  \n",
       "dry_type                                                                 1  \n",
       "clean_sephora                                                            1  \n",
       "cruelty_free                                                             1  \n",
       "vegan                                                                    0  \n",
       "best_for_skintype                                                        1  \n",
       "award                                                                    0  \n",
       "pricepervol                                                      24.705882  \n",
       "highlighted_ingr         Apricot Microspheres, Natural BHA from White W...  \n",
       "clinical_results                                                         0  \n",
       "formulation_type                                                    others  \n",
       "richness                                                            normal  \n",
       "Acne/Blemishes                                                           0  \n",
       "Anti-Aging                                                               0  \n",
       "Dark Circles                                                             0  \n",
       "Dark spots                                                               0  \n",
       "Dryness                                                                  0  \n",
       "Dullness/Uneven Texture                                                  1  \n",
       "Hair Dryness                                                             0  \n",
       "Hydrating                                                                0  \n",
       "Loss of firmness                                                         0  \n",
       "Pores                                                                    0  \n",
       "Redness                                                                  0  \n",
       "num_excl_ingr                                                            0  \n",
       "AHA/Glycolic Acid                                                        0  \n",
       "Hyaluronic Acid                                                          0  \n",
       "Salicylic Acid                                                           1  \n",
       "Vitamin C                                                                0  \n",
       "ingr_list                Hordeum Vulgare Leaf Juice, Cetearyl Alcohol, ...  "
      ]
     },
     "execution_count": 3,
     "metadata": {},
     "output_type": "execute_result"
    }
   ],
   "source": [
    "df.head().T"
   ]
  },
  {
   "cell_type": "markdown",
   "id": "atlantic-hughes",
   "metadata": {},
   "source": [
    "## 2.0 Feature engineering"
   ]
  },
  {
   "cell_type": "markdown",
   "id": "discrete-customs",
   "metadata": {},
   "source": [
    "**Encode categorical columns**"
   ]
  },
  {
   "cell_type": "code",
   "execution_count": 4,
   "id": "subtle-expert",
   "metadata": {
    "scrolled": true
   },
   "outputs": [],
   "source": [
    "df= pd.get_dummies(df, columns=['formulation_type', 'richness', 'product_type', 'brand']\n",
    "              #drop_first=True\n",
    "              )"
   ]
  },
  {
   "cell_type": "markdown",
   "id": "neutral-steering",
   "metadata": {},
   "source": [
    "**Created alternative y variables**"
   ]
  },
  {
   "cell_type": "code",
   "execution_count": 5,
   "id": "electrical-array",
   "metadata": {
    "scrolled": true
   },
   "outputs": [],
   "source": [
    "#Create category based on quantiles\n",
    "df['affordability']= pd.qcut(df.pricepervol, q=4, labels=['$', '$$', '$$$', '$$$$'], duplicates='raise')"
   ]
  },
  {
   "cell_type": "code",
   "execution_count": 6,
   "id": "moral-framing",
   "metadata": {},
   "outputs": [
    {
     "data": {
      "text/plain": [
       "$$$     340\n",
       "$       337\n",
       "$$      334\n",
       "$$$$    327\n",
       "Name: affordability, dtype: int64"
      ]
     },
     "execution_count": 6,
     "metadata": {},
     "output_type": "execute_result"
    }
   ],
   "source": [
    "df['affordability'].value_counts()"
   ]
  },
  {
   "cell_type": "code",
   "execution_count": 7,
   "id": "beginning-payday",
   "metadata": {},
   "outputs": [
    {
     "data": {
      "text/plain": [
       "(-83.025, 103.005)"
      ]
     },
     "execution_count": 7,
     "metadata": {},
     "output_type": "execute_result"
    }
   ],
   "source": [
    "#Identify outliers\n",
    "IQR = np.quantile(df.pricepervol, 0.75) - np.quantile(df.pricepervol, 0.25)\n",
    "np.quantile(df.pricepervol, 0.25) -1.5*(IQR), np.quantile(df.pricepervol, 0.25) +1.5*(IQR) "
   ]
  },
  {
   "cell_type": "markdown",
   "id": "certified-rugby",
   "metadata": {},
   "source": [
    "For simplicity, 0-100 will be used instead to create the bins."
   ]
  },
  {
   "cell_type": "code",
   "execution_count": 8,
   "id": "maritime-tennessee",
   "metadata": {},
   "outputs": [],
   "source": [
    "#Create categories based on bins\n",
    "df['affordability_bins']=pd.cut(df.pricepervol, bins=[0, 25, 50, 75, 100, 885], labels=['1st', '2nd', '3rd', '4th', '5th'], include_lowest=True)"
   ]
  },
  {
   "cell_type": "markdown",
   "id": "cardiac-constitutional",
   "metadata": {},
   "source": [
    "## Saving the cleaned dataset before splitting"
   ]
  },
  {
   "cell_type": "code",
   "execution_count": 65,
   "id": "residential-contrast",
   "metadata": {},
   "outputs": [],
   "source": [
    "datapath = '../data/processed_data'\n",
    "datapath_df = os.path.join(datapath, 'pre_modelling_df.json')\n",
    "if not os.path.exists(datapath_df):\n",
    "    df.to_json(datapath_df)"
   ]
  },
  {
   "cell_type": "markdown",
   "id": "radical-touch",
   "metadata": {},
   "source": [
    "## 3.0 Train-test split"
   ]
  },
  {
   "cell_type": "code",
   "execution_count": 37,
   "id": "experimental-cisco",
   "metadata": {},
   "outputs": [],
   "source": [
    "targeted_var = 'pricepervol'\n",
    "excluded_features = ['product_name', \n",
    "                    #y values \n",
    "                     'pricepervol', 'affordability', 'affordability_bins',\n",
    "                     'highlighted_ingr', 'ingr_list'\n",
    "                    ]"
   ]
  },
  {
   "cell_type": "code",
   "execution_count": 38,
   "id": "economic-ceremony",
   "metadata": {},
   "outputs": [],
   "source": [
    "X= df.drop(columns=excluded_features)\n",
    "y= df[targeted_var]"
   ]
  },
  {
   "cell_type": "code",
   "execution_count": 39,
   "id": "level-desert",
   "metadata": {
    "scrolled": true
   },
   "outputs": [
    {
     "data": {
      "text/plain": [
       "Index(['product_name', 'num_likes', 'rating', 'num_reviews', 'sensitive_type',\n",
       "       'combination_type', 'oily_type', 'normal_type', 'dry_type',\n",
       "       'clean_sephora',\n",
       "       ...\n",
       "       'brand_belif', 'brand_fresh', 'brand_goop', 'brand_innisfree',\n",
       "       'brand_lilah b.', 'brand_philosophy', 'brand_rms beauty', 'brand_tarte',\n",
       "       'affordability', 'affordability_bins'],\n",
       "      dtype='object', length=181)"
      ]
     },
     "execution_count": 39,
     "metadata": {},
     "output_type": "execute_result"
    }
   ],
   "source": [
    "df.columns"
   ]
  },
  {
   "cell_type": "code",
   "execution_count": 40,
   "id": "answering-mexico",
   "metadata": {},
   "outputs": [],
   "source": [
    "X_tr, X_te, y_tr, y_te = train_test_split(X, y, test_size= 0.3, random_state=12)"
   ]
  },
  {
   "cell_type": "code",
   "execution_count": 41,
   "id": "spatial-advance",
   "metadata": {},
   "outputs": [
    {
     "data": {
      "text/plain": [
       "((936, 175), (402, 175))"
      ]
     },
     "execution_count": 41,
     "metadata": {},
     "output_type": "execute_result"
    }
   ],
   "source": [
    "X_tr.shape, X_te.shape"
   ]
  },
  {
   "cell_type": "markdown",
   "id": "closing-cookie",
   "metadata": {},
   "source": [
    "## 4.0 Transforming the features"
   ]
  },
  {
   "cell_type": "code",
   "execution_count": 60,
   "id": "unlimited-dominican",
   "metadata": {},
   "outputs": [],
   "source": [
    "#Create a copy of datasets\n",
    "X_tr_scaled = X_tr.copy()\n",
    "X_te_scaled = X_te.copy()"
   ]
  },
  {
   "cell_type": "code",
   "execution_count": 61,
   "id": "super-pavilion",
   "metadata": {},
   "outputs": [],
   "source": [
    "target_cols = ['num_likes', 'num_reviews']\n",
    "\n",
    "for i in target_cols:\n",
    "    # fit on training data column\n",
    "    scaler = StandardScaler().fit(X_tr_scaled[[i]])\n",
    "    \n",
    "    # transform the training data column\n",
    "    X_tr_scaled[i] = scaler.transform(X_tr_scaled[[i]])\n",
    "    \n",
    "    # transform the testing data column\n",
    "    X_te_scaled[i] = scaler.transform(X_te_scaled[[i]])"
   ]
  },
  {
   "cell_type": "markdown",
   "id": "maritime-niger",
   "metadata": {},
   "source": [
    "<font color='red'> To confirm, I see some notebooks which transform the entire dataset. I assume we only have to transform certain features - i.e. those with varying ranges? \n",
    "    \n",
    "also, if I used a standardscaler in my pipeline, then it would transform the entire dataset right? \n",
    "    \n",
    "</font>"
   ]
  },
  {
   "cell_type": "markdown",
   "id": "infrared-progress",
   "metadata": {},
   "source": [
    "__________________________________"
   ]
  },
  {
   "cell_type": "markdown",
   "id": "banner-velvet",
   "metadata": {},
   "source": [
    "# Modelling"
   ]
  },
  {
   "cell_type": "markdown",
   "id": "muslim-evaluation",
   "metadata": {},
   "source": [
    "## 1.0 Loading the files"
   ]
  },
  {
   "cell_type": "code",
   "execution_count": 69,
   "id": "sudden-workplace",
   "metadata": {},
   "outputs": [],
   "source": [
    "#Importing required packages\n",
    "import pandas as pd\n",
    "import numpy as np\n",
    "import os\n",
    "import pickle\n",
    "import matplotlib.pyplot as plt\n",
    "import seaborn as sns\n",
    "from sklearn import __version__ as sklearn_version\n",
    "from sklearn.decomposition import PCA\n",
    "from sklearn.preprocessing import scale\n",
    "from sklearn.model_selection import train_test_split, cross_validate, GridSearchCV, learning_curve\n",
    "from sklearn.preprocessing import StandardScaler, MinMaxScaler\n",
    "from sklearn.dummy import DummyRegressor\n",
    "from sklearn.linear_model import LinearRegression\n",
    "from sklearn.ensemble import RandomForestRegressor\n",
    "from sklearn.metrics import r2_score, mean_squared_error, mean_absolute_error\n",
    "from sklearn.pipeline import make_pipeline\n",
    "from sklearn.impute import SimpleImputer\n",
    "from sklearn.feature_selection import SelectKBest, f_regression\n",
    "import datetime\n",
    "#from library.sb_utils import save_file"
   ]
  },
  {
   "cell_type": "markdown",
   "id": "smoking-platinum",
   "metadata": {},
   "source": [
    "## 2.0 Building initial / baseline models"
   ]
  },
  {
   "cell_type": "markdown",
   "id": "quiet-cargo",
   "metadata": {},
   "source": [
    "### 2.1 Mean as predictor"
   ]
  },
  {
   "cell_type": "code",
   "execution_count": 115,
   "id": "numeric-allah",
   "metadata": {},
   "outputs": [],
   "source": [
    "method= 'median' #can also try other methods: median, most frequent/mode"
   ]
  },
  {
   "cell_type": "code",
   "execution_count": 116,
   "id": "composed-correction",
   "metadata": {},
   "outputs": [
    {
     "data": {
      "text/plain": [
       "array([[32.94117647]])"
      ]
     },
     "execution_count": 116,
     "metadata": {},
     "output_type": "execute_result"
    }
   ],
   "source": [
    "dumb_reg = DummyRegressor(strategy=method) \n",
    "dumb_reg.fit(X_tr_scaled, y_tr)\n",
    "dumb_reg.constant_"
   ]
  },
  {
   "cell_type": "code",
   "execution_count": 117,
   "id": "ranging-poster",
   "metadata": {},
   "outputs": [],
   "source": [
    "y_tr_pred = dumb_reg.predict(X_tr_scaled)"
   ]
  },
  {
   "cell_type": "code",
   "execution_count": 118,
   "id": "rocky-briefs",
   "metadata": {},
   "outputs": [],
   "source": [
    "#Model will predict the same value everytime\n",
    "y_te_pred = float(dumb_reg.constant_) * np.ones(len(y_te))"
   ]
  },
  {
   "cell_type": "code",
   "execution_count": 122,
   "id": "developmental-massage",
   "metadata": {
    "scrolled": false
   },
   "outputs": [
    {
     "name": "stdout",
     "output_type": "stream",
     "text": [
      "Assessing the model performance using a median baseline\n",
      "\n",
      "\n",
      "R2 score\n",
      "Training set: -0.1033\n",
      "Testing set: -0.0674\n",
      "\n",
      "\n",
      "Mean Absolute Error (MAE)\n",
      "Training set: 42.0562\n",
      "Testing set: 41.2134\n",
      "\n",
      "\n",
      "Root Mean Squared Error (RMSE)\n",
      "Training set: 72.1162\n",
      "Testing set: 84.0184\n"
     ]
    }
   ],
   "source": [
    "print(f'Assessing the model performance using a {method} baseline')\n",
    "print('\\n')\n",
    "print('R2 score')\n",
    "print(f'Training set: {round(r2_score(y_tr, y_tr_pred),4)}')\n",
    "print(f'Testing set: {round(r2_score(y_te, y_te_pred),4)}')\n",
    "print('\\n')\n",
    "print('Mean Absolute Error (MAE)')\n",
    "print(f'Training set: {round(mean_absolute_error(y_tr, y_tr_pred),4)}')\n",
    "print(f'Testing set: {round(mean_absolute_error(y_te, y_te_pred),4)}')\n",
    "print('\\n')\n",
    "print('Root Mean Squared Error (RMSE)')\n",
    "print(f'Training set: {round(np.sqrt(mean_squared_error(y_tr, y_tr_pred)),4)}')\n",
    "print(f'Testing set: {round(np.sqrt(mean_squared_error(y_te, y_te_pred)),4)}')"
   ]
  },
  {
   "cell_type": "markdown",
   "id": "operating-hybrid",
   "metadata": {},
   "source": [
    "**[Comment]**"
   ]
  },
  {
   "cell_type": "markdown",
   "id": "thousand-collective",
   "metadata": {},
   "source": [
    "### 2.2 Linear Regression"
   ]
  },
  {
   "cell_type": "code",
   "execution_count": 123,
   "id": "sensitive-advance",
   "metadata": {},
   "outputs": [],
   "source": [
    "linreg = LinearRegression().fit(X_tr_scaled, y_tr)\n",
    "y_tr_pred = linreg.predict(X_tr_scaled)\n",
    "y_te_pred = linreg.predict(X_te_scaled)"
   ]
  },
  {
   "cell_type": "code",
   "execution_count": 141,
   "id": "adjacent-reservation",
   "metadata": {},
   "outputs": [
    {
     "name": "stdout",
     "output_type": "stream",
     "text": [
      " R2 Score: 0.6549\n"
     ]
    }
   ],
   "source": [
    "print(f' R2 Score: {round(linreg.score(X_tr_scaled, y_tr),4)}')"
   ]
  },
  {
   "cell_type": "code",
   "execution_count": 144,
   "id": "capable-florist",
   "metadata": {},
   "outputs": [
    {
     "name": "stdout",
     "output_type": "stream",
     "text": [
      "Coefficients: \n",
      " [-2.30586521e+00 -6.58787030e+00 -1.20312935e-01 -3.94416984e+00\n",
      "  4.55827121e+00 -5.22836224e+00 -8.03259543e+00  5.06714301e-01\n",
      " -1.11177525e+01 -1.23923905e+01  6.33119029e+00 -1.04018623e-01\n",
      "  7.79183033e+00  4.34681320e-01  2.75690520e+00  2.44613505e+01\n",
      "  2.58306054e+00  4.16436565e+00 -5.47932542e+00  1.23644709e+00\n",
      " -1.75392805e+01 -3.96166865e-02  1.10948169e+01  1.22136897e+00\n",
      "  1.52518555e+01  1.62667379e+00  5.61700918e+00 -6.24983769e+00\n",
      " -1.16369068e+01 -4.89062995e+00  1.23234632e+14  1.23234632e+14\n",
      "  1.23234632e+14  1.23234632e+14  1.23234632e+14  1.23234632e+14\n",
      "  1.23234632e+14  1.64343058e+14  1.64343058e+14  1.64343058e+14\n",
      "  1.77545043e+14  1.77545043e+14  1.77545043e+14  1.77545043e+14\n",
      "  1.77545043e+14  1.77545043e+14  7.75646938e+12  7.75646938e+12\n",
      "  7.75646938e+12 -5.46647616e+11  6.03029844e+10  7.75646938e+12\n",
      "  7.75646938e+12  7.75646938e+12  7.75646938e+12  7.75646938e+12\n",
      "  7.75646938e+12  7.75646938e+12  7.75646938e+12 -4.54372482e+10\n",
      "  7.75646938e+12  7.75646938e+12  7.75646938e+12  7.75646938e+12\n",
      "  7.75646938e+12  7.75646938e+12  7.75646938e+12  7.75646938e+12\n",
      "  7.75646938e+12  7.75646938e+12  7.75646938e+12  7.75646938e+12\n",
      "  7.75646938e+12  7.75646938e+12  7.75646938e+12  7.75646938e+12\n",
      "  7.75646938e+12  7.75646938e+12  7.75646938e+12  7.75646938e+12\n",
      "  7.75646938e+12  7.75646938e+12  7.75646938e+12  7.75646938e+12\n",
      "  7.75646938e+12  7.75646938e+12  7.75646938e+12  7.75646938e+12\n",
      "  7.75646938e+12  7.75646938e+12  7.75646938e+12  7.75646938e+12\n",
      "  7.75646938e+12  7.75646938e+12  7.75646938e+12  7.75646938e+12\n",
      "  7.75646938e+12  7.75646938e+12  7.75646938e+12 -3.14407990e+02\n",
      "  7.75646938e+12  7.75646938e+12 -5.76092529e+01  7.75646938e+12\n",
      "  7.75646938e+12  7.75646938e+12  7.75646938e+12  8.76953125e-01\n",
      "  7.75646938e+12  7.75646938e+12  7.75646938e+12  7.75646938e+12\n",
      "  7.75646938e+12  7.75646938e+12 -6.25000000e-02  7.75646938e+12\n",
      "  7.75646938e+12  7.75646938e+12  7.75646938e+12  7.75646938e+12\n",
      "  7.75646938e+12  0.00000000e+00  7.75646938e+12  7.75646938e+12\n",
      "  7.75646938e+12  7.75646938e+12  7.75646938e+12  7.75646938e+12\n",
      "  7.75646938e+12  7.75646938e+12  7.75646938e+12  8.35657120e-04\n",
      "  7.75646938e+12  7.75646938e+12  7.75646938e+12  7.75646938e+12\n",
      "  7.75646938e+12  7.75646938e+12  7.75646938e+12  7.75646938e+12\n",
      "  7.75646938e+12  7.75646938e+12  7.75646938e+12  7.75646938e+12\n",
      "  7.75646938e+12  7.75646938e+12  7.75646938e+12  7.75646938e+12\n",
      "  7.75646938e+12  7.75646938e+12  7.75646938e+12  7.75646938e+12\n",
      "  4.27442544e-08  7.75646938e+12  7.75646938e+12  7.75646938e+12\n",
      "  7.75646938e+12  7.75646938e+12  7.75646938e+12  7.75646938e+12\n",
      "  7.75646938e+12  7.75646938e+12  7.75646938e+12  7.75646938e+12\n",
      "  7.75646938e+12  7.75646938e+12  0.00000000e+00  7.75646938e+12\n",
      "  7.75646938e+12  7.75646938e+12  7.75646938e+12  7.75646938e+12\n",
      "  7.75646938e+12  0.00000000e+00  7.75646938e+12]\n",
      "Intercept: \n",
      " -472879202416823.3\n"
     ]
    }
   ],
   "source": [
    "print('Coefficients: \\n', linreg.coef_)\n",
    "print('Intercept: \\n', linreg.intercept_)"
   ]
  },
  {
   "cell_type": "code",
   "execution_count": 147,
   "id": "parallel-control",
   "metadata": {
    "scrolled": true
   },
   "outputs": [
    {
     "name": "stdout",
     "output_type": "stream",
     "text": [
      "MSE: 1454819974673.91\n",
      "R2: -320025240411888353280.00\n"
     ]
    }
   ],
   "source": [
    "print('MSE: %.2f' % np.sqrt(mean_squared_error(y_te, y_te_pred)))\n",
    "print('R2: %.2f'% r2_score(y_te, y_te_pred))"
   ]
  },
  {
   "cell_type": "markdown",
   "id": "authorized-victoria",
   "metadata": {},
   "source": [
    "<font color='red'> How is it possible that we have the results above?? \n",
    "\n",
    "add r2 \n",
    "    \n",
    "add comment\n",
    "\n",
    "</font>"
   ]
  },
  {
   "cell_type": "markdown",
   "id": "portable-service",
   "metadata": {},
   "source": [
    "#### 2.2.1 Refining the linear regression"
   ]
  },
  {
   "cell_type": "markdown",
   "id": "opened-oliver",
   "metadata": {},
   "source": [
    "Make the pipeline"
   ]
  },
  {
   "cell_type": "code",
   "execution_count": 184,
   "id": "third-chester",
   "metadata": {},
   "outputs": [],
   "source": [
    "pipeline = make_pipeline(\n",
    "    #SimpleImputer(strategy='median'), \n",
    "    #StandardScaler(),\n",
    "    SelectKBest(score_func=f_regression, k=50),\n",
    "    LinearRegression()\n",
    ")"
   ]
  },
  {
   "cell_type": "code",
   "execution_count": 185,
   "id": "annoying-young",
   "metadata": {},
   "outputs": [
    {
     "name": "stderr",
     "output_type": "stream",
     "text": [
      "/opt/anaconda3/lib/python3.8/site-packages/sklearn/feature_selection/_univariate_selection.py:302: RuntimeWarning: invalid value encountered in true_divide\n",
      "  corr /= X_norms\n",
      "/opt/anaconda3/lib/python3.8/site-packages/sklearn/feature_selection/_univariate_selection.py:302: RuntimeWarning: invalid value encountered in true_divide\n",
      "  corr /= X_norms\n",
      "/opt/anaconda3/lib/python3.8/site-packages/sklearn/feature_selection/_univariate_selection.py:302: RuntimeWarning: invalid value encountered in true_divide\n",
      "  corr /= X_norms\n",
      "/opt/anaconda3/lib/python3.8/site-packages/sklearn/feature_selection/_univariate_selection.py:302: RuntimeWarning: invalid value encountered in true_divide\n",
      "  corr /= X_norms\n",
      "/opt/anaconda3/lib/python3.8/site-packages/sklearn/feature_selection/_univariate_selection.py:302: RuntimeWarning: invalid value encountered in true_divide\n",
      "  corr /= X_norms\n"
     ]
    }
   ],
   "source": [
    "cv_results = cross_validate(pipeline, X_tr_scaled, y_tr, cv=5)\n",
    "cv_scores = cv_results['test_score']"
   ]
  },
  {
   "cell_type": "code",
   "execution_count": 186,
   "id": "technical-destiny",
   "metadata": {},
   "outputs": [
    {
     "data": {
      "text/plain": [
       "(0.5140515328407748, 0.08002966931022792)"
      ]
     },
     "execution_count": 186,
     "metadata": {},
     "output_type": "execute_result"
    }
   ],
   "source": [
    "np.mean(cv_scores), np.std(cv_scores)"
   ]
  },
  {
   "cell_type": "markdown",
   "id": "functioning-terrorist",
   "metadata": {},
   "source": [
    "Find optimal parameters using GridSearchCV"
   ]
  },
  {
   "cell_type": "code",
   "execution_count": 187,
   "id": "polished-domestic",
   "metadata": {},
   "outputs": [],
   "source": [
    "k = [k+1 for k in range(len(X_tr_scaled.columns))]\n",
    "grid_params = {'selectkbest__k': k}"
   ]
  },
  {
   "cell_type": "code",
   "execution_count": 188,
   "id": "smaller-functionality",
   "metadata": {},
   "outputs": [
    {
     "name": "stderr",
     "output_type": "stream",
     "text": [
      "/opt/anaconda3/lib/python3.8/site-packages/sklearn/feature_selection/_univariate_selection.py:302: RuntimeWarning: invalid value encountered in true_divide\n",
      "  corr /= X_norms\n"
     ]
    },
    {
     "data": {
      "text/plain": [
       "GridSearchCV(cv=5,\n",
       "             estimator=Pipeline(steps=[('selectkbest',\n",
       "                                        SelectKBest(k=50,\n",
       "                                                    score_func=<function f_regression at 0x124e47550>)),\n",
       "                                       ('linearregression',\n",
       "                                        LinearRegression())]),\n",
       "             n_jobs=-1,\n",
       "             param_grid={'selectkbest__k': [1, 2, 3, 4, 5, 6, 7, 8, 9, 10, 11,\n",
       "                                            12, 13, 14, 15, 16, 17, 18, 19, 20,\n",
       "                                            21, 22, 23, 24, 25, 26, 27, 28, 29,\n",
       "                                            30, ...]})"
      ]
     },
     "execution_count": 188,
     "metadata": {},
     "output_type": "execute_result"
    }
   ],
   "source": [
    "lr_grid_cv = GridSearchCV(pipeline, param_grid=grid_params, cv=5, n_jobs=-1)\n",
    "lr_grid_cv.fit(X_tr_scaled, y_tr)"
   ]
  },
  {
   "cell_type": "code",
   "execution_count": 189,
   "id": "adopted-trouble",
   "metadata": {},
   "outputs": [],
   "source": [
    "score_mean = lr_grid_cv.cv_results_['mean_test_score']\n",
    "score_std = lr_grid_cv.cv_results_['std_test_score']\n",
    "cv_k = [k for k in lr_grid_cv.cv_results_['param_selectkbest__k']]"
   ]
  },
  {
   "cell_type": "code",
   "execution_count": 190,
   "id": "sustained-isolation",
   "metadata": {},
   "outputs": [
    {
     "data": {
      "text/plain": [
       "{'selectkbest__k': 111}"
      ]
     },
     "execution_count": 190,
     "metadata": {},
     "output_type": "execute_result"
    }
   ],
   "source": [
    "lr_grid_cv.best_params_"
   ]
  },
  {
   "cell_type": "code",
   "execution_count": 191,
   "id": "recognized-joining",
   "metadata": {},
   "outputs": [
    {
     "data": {
      "image/png": "[encoded data removed]",
      "text/plain": [
       "<Figure size 720x360 with 1 Axes>"
      ]
     },
     "metadata": {
      "needs_background": "light"
     },
     "output_type": "display_data"
    }
   ],
   "source": [
    "best_k = lr_grid_cv.best_params_['selectkbest__k']\n",
    "plt.subplots(figsize=(10, 5))\n",
    "plt.errorbar(cv_k, score_mean, yerr=score_std)\n",
    "plt.axvline(x=best_k, c='r', ls='--', alpha=.5)\n",
    "plt.xlabel('k')\n",
    "plt.ylabel('CV score (r-squared)')\n",
    "plt.title('Pipeline mean CV score (error bars +/- 1sd)');"
   ]
  },
  {
   "cell_type": "code",
   "execution_count": null,
   "id": "attempted-connecticut",
   "metadata": {},
   "outputs": [],
   "source": []
  }
 ],
 "metadata": {
  "kernelspec": {
   "display_name": "Python 3",
   "language": "python",
   "name": "python3"
  },
  "language_info": {
   "codemirror_mode": {
    "name": "ipython",
    "version": 3
   },
   "file_extension": ".py",
   "mimetype": "text/x-python",
   "name": "python",
   "nbconvert_exporter": "python",
   "pygments_lexer": "ipython3",
   "version": "3.8.2"
  }
 },
 "nbformat": 4,
 "nbformat_minor": 5
}
