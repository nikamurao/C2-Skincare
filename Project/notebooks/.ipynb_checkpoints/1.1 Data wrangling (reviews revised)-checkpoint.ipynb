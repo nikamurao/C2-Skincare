{
 "cells": [
  {
   "cell_type": "markdown",
   "id": "accepted-civilian",
   "metadata": {},
   "source": [
    "# Data wrangling - reviews"
   ]
  },
  {
   "cell_type": "markdown",
   "id": "ethical-leader",
   "metadata": {},
   "source": [
    "**Filename of dataset**\n",
    "- selected_reviews.json - only products used in the other dataset\n",
    "- full_reviews.json - all reviews of products scraped"
   ]
  },
  {
   "cell_type": "markdown",
   "id": "general-omaha",
   "metadata": {},
   "source": [
    "________________________________________________________________________"
   ]
  },
  {
   "cell_type": "markdown",
   "id": "annoying-strategy",
   "metadata": {},
   "source": [
    "# 1.0 Loading the files"
   ]
  },
  {
   "cell_type": "markdown",
   "id": "political-collective",
   "metadata": {},
   "source": [
    "### 1.1 Installations"
   ]
  },
  {
   "cell_type": "code",
   "execution_count": 3,
   "id": "logical-advocate",
   "metadata": {},
   "outputs": [],
   "source": [
    "#Import necessary libraries\n",
    "import json \n",
    "import re\n",
    "import os\n",
    "import seaborn as sns\n",
    "import numpy as np\n",
    "import pandas as pd\n",
    "import matplotlib.pyplot as plt\n",
    "import missingno as msno\n",
    "from collections import Counter"
   ]
  },
  {
   "cell_type": "code",
   "execution_count": 4,
   "id": "inner-berry",
   "metadata": {},
   "outputs": [
    {
     "name": "stderr",
     "output_type": "stream",
     "text": [
      "[nltk_data] Downloading package punkt to /Users/nikamurao/nltk_data...\n",
      "[nltk_data]   Package punkt is already up-to-date!\n",
      "[nltk_data] Downloading package wordnet to\n",
      "[nltk_data]     /Users/nikamurao/nltk_data...\n",
      "[nltk_data]   Package wordnet is already up-to-date!\n",
      "[nltk_data] Downloading package stopwords to\n",
      "[nltk_data]     /Users/nikamurao/nltk_data...\n",
      "[nltk_data]   Package stopwords is already up-to-date!\n",
      "[nltk_data] Downloading package averaged_perceptron_tagger to\n",
      "[nltk_data]     /Users/nikamurao/nltk_data...\n",
      "[nltk_data]   Package averaged_perceptron_tagger is already up-to-\n",
      "[nltk_data]       date!\n"
     ]
    },
    {
     "data": {
      "text/plain": [
       "True"
      ]
     },
     "execution_count": 4,
     "metadata": {},
     "output_type": "execute_result"
    }
   ],
   "source": [
    "#Libraries for text\n",
    "import nltk\n",
    "import spacy\n",
    "import re\n",
    "import contractions\n",
    "from nltk.stem import PorterStemmer\n",
    "from nltk.stem import WordNetLemmatizer\n",
    "from nltk.corpus import wordnet\n",
    "nltk.download('punkt')\n",
    "nltk.download('wordnet')\n",
    "nltk.download('stopwords')\n",
    "nltk.download('averaged_perceptron_tagger')"
   ]
  },
  {
   "cell_type": "markdown",
   "id": "pretty-wright",
   "metadata": {},
   "source": [
    "### 1.2 Load the file "
   ]
  },
  {
   "cell_type": "code",
   "execution_count": 5,
   "id": "liked-sigma",
   "metadata": {},
   "outputs": [],
   "source": [
    "with open('../data/raw_data/selected_reviews.json', 'r') as file:\n",
    "    raw_data= json.load(file)\n",
    "reviews=pd.DataFrame.from_dict(raw_data)"
   ]
  },
  {
   "cell_type": "code",
   "execution_count": 6,
   "id": "frank-exhaust",
   "metadata": {
    "scrolled": true
   },
   "outputs": [
    {
     "data": {
      "text/html": [
       "<div>\n",
       "<style scoped>\n",
       "    .dataframe tbody tr th:only-of-type {\n",
       "        vertical-align: middle;\n",
       "    }\n",
       "\n",
       "    .dataframe tbody tr th {\n",
       "        vertical-align: top;\n",
       "    }\n",
       "\n",
       "    .dataframe thead th {\n",
       "        text-align: right;\n",
       "    }\n",
       "</style>\n",
       "<table border=\"1\" class=\"dataframe\">\n",
       "  <thead>\n",
       "    <tr style=\"text-align: right;\">\n",
       "      <th></th>\n",
       "      <th>reviewer</th>\n",
       "      <th>r_productid</th>\n",
       "      <th>r_star</th>\n",
       "      <th>r_eyecolor</th>\n",
       "      <th>r_haircolor</th>\n",
       "      <th>r_skintone</th>\n",
       "      <th>r_skintype</th>\n",
       "      <th>r_skinconcerns</th>\n",
       "      <th>r_review</th>\n",
       "    </tr>\n",
       "  </thead>\n",
       "  <tbody>\n",
       "    <tr>\n",
       "      <th>0</th>\n",
       "      <td>kelsb5</td>\n",
       "      <td>P409800</td>\n",
       "      <td>5</td>\n",
       "      <td>blue</td>\n",
       "      <td>blonde</td>\n",
       "      <td>light</td>\n",
       "      <td>combination</td>\n",
       "      <td>acne</td>\n",
       "      <td>Love this mini compact wipes bag! I bought the...</td>\n",
       "    </tr>\n",
       "    <tr>\n",
       "      <th>1</th>\n",
       "      <td>fairytatiana</td>\n",
       "      <td>P409800</td>\n",
       "      <td>4</td>\n",
       "      <td>blue</td>\n",
       "      <td>brunette</td>\n",
       "      <td>light</td>\n",
       "      <td>combination</td>\n",
       "      <td>acne</td>\n",
       "      <td>very good, it can take most of your makeup wit...</td>\n",
       "    </tr>\n",
       "    <tr>\n",
       "      <th>2</th>\n",
       "      <td>baimhas</td>\n",
       "      <td>P409800</td>\n",
       "      <td>5</td>\n",
       "      <td>blue</td>\n",
       "      <td>blonde</td>\n",
       "      <td>porcelain</td>\n",
       "      <td>dry</td>\n",
       "      <td>calluses</td>\n",
       "      <td>Love the watermelon ones! Don’t have to rub ha...</td>\n",
       "    </tr>\n",
       "    <tr>\n",
       "      <th>3</th>\n",
       "      <td>haleymcm</td>\n",
       "      <td>P409800</td>\n",
       "      <td>2</td>\n",
       "      <td>None</td>\n",
       "      <td>None</td>\n",
       "      <td>None</td>\n",
       "      <td>None</td>\n",
       "      <td>None</td>\n",
       "      <td>I bought the green tea version of these wipes ...</td>\n",
       "    </tr>\n",
       "    <tr>\n",
       "      <th>4</th>\n",
       "      <td>mariahswannie</td>\n",
       "      <td>P409800</td>\n",
       "      <td>4</td>\n",
       "      <td>blue</td>\n",
       "      <td>brunette</td>\n",
       "      <td>porcelain</td>\n",
       "      <td>dry</td>\n",
       "      <td>darkCircles</td>\n",
       "      <td>Nice and cleansing, only 10 wipes though</td>\n",
       "    </tr>\n",
       "    <tr>\n",
       "      <th>...</th>\n",
       "      <td>...</td>\n",
       "      <td>...</td>\n",
       "      <td>...</td>\n",
       "      <td>...</td>\n",
       "      <td>...</td>\n",
       "      <td>...</td>\n",
       "      <td>...</td>\n",
       "      <td>...</td>\n",
       "      <td>...</td>\n",
       "    </tr>\n",
       "    <tr>\n",
       "      <th>35159</th>\n",
       "      <td>shhh72</td>\n",
       "      <td>P418301</td>\n",
       "      <td>5</td>\n",
       "      <td>blue</td>\n",
       "      <td>blonde</td>\n",
       "      <td>light</td>\n",
       "      <td>normal</td>\n",
       "      <td>aging</td>\n",
       "      <td>I put this on every morning after washing my f...</td>\n",
       "    </tr>\n",
       "    <tr>\n",
       "      <th>35160</th>\n",
       "      <td>eaazye</td>\n",
       "      <td>P418301</td>\n",
       "      <td>5</td>\n",
       "      <td>gray</td>\n",
       "      <td>brunette</td>\n",
       "      <td>light</td>\n",
       "      <td>combination</td>\n",
       "      <td>acne</td>\n",
       "      <td>so this was a random purchase, i literally jus...</td>\n",
       "    </tr>\n",
       "    <tr>\n",
       "      <th>35161</th>\n",
       "      <td>Mariemill</td>\n",
       "      <td>P418301</td>\n",
       "      <td>5</td>\n",
       "      <td>blue</td>\n",
       "      <td>blonde</td>\n",
       "      <td>fair</td>\n",
       "      <td>combination</td>\n",
       "      <td>aging</td>\n",
       "      <td>Was skeptical but took the plunge based solely...</td>\n",
       "    </tr>\n",
       "    <tr>\n",
       "      <th>35162</th>\n",
       "      <td>JaeW</td>\n",
       "      <td>P418301</td>\n",
       "      <td>3</td>\n",
       "      <td>None</td>\n",
       "      <td>None</td>\n",
       "      <td>None</td>\n",
       "      <td>None</td>\n",
       "      <td>None</td>\n",
       "      <td>I've been using pretty religiously for over 10...</td>\n",
       "    </tr>\n",
       "    <tr>\n",
       "      <th>35163</th>\n",
       "      <td>BECKS316</td>\n",
       "      <td>P418301</td>\n",
       "      <td>2</td>\n",
       "      <td>brown</td>\n",
       "      <td>brunette</td>\n",
       "      <td>olive</td>\n",
       "      <td>normal</td>\n",
       "      <td>aging</td>\n",
       "      <td>I was very excited about this but hesitant to ...</td>\n",
       "    </tr>\n",
       "  </tbody>\n",
       "</table>\n",
       "<p>35164 rows × 9 columns</p>\n",
       "</div>"
      ],
      "text/plain": [
       "            reviewer r_productid  r_star r_eyecolor r_haircolor r_skintone  \\\n",
       "0             kelsb5     P409800       5       blue      blonde      light   \n",
       "1       fairytatiana     P409800       4       blue    brunette      light   \n",
       "2            baimhas     P409800       5       blue      blonde  porcelain   \n",
       "3           haleymcm     P409800       2       None        None       None   \n",
       "4      mariahswannie     P409800       4       blue    brunette  porcelain   \n",
       "...              ...         ...     ...        ...         ...        ...   \n",
       "35159         shhh72     P418301       5       blue      blonde      light   \n",
       "35160         eaazye     P418301       5       gray    brunette      light   \n",
       "35161      Mariemill     P418301       5       blue      blonde       fair   \n",
       "35162           JaeW     P418301       3       None        None       None   \n",
       "35163       BECKS316     P418301       2      brown    brunette      olive   \n",
       "\n",
       "        r_skintype r_skinconcerns  \\\n",
       "0      combination           acne   \n",
       "1      combination           acne   \n",
       "2              dry       calluses   \n",
       "3             None           None   \n",
       "4              dry    darkCircles   \n",
       "...            ...            ...   \n",
       "35159       normal          aging   \n",
       "35160  combination           acne   \n",
       "35161  combination          aging   \n",
       "35162         None           None   \n",
       "35163       normal          aging   \n",
       "\n",
       "                                                r_review  \n",
       "0      Love this mini compact wipes bag! I bought the...  \n",
       "1      very good, it can take most of your makeup wit...  \n",
       "2      Love the watermelon ones! Don’t have to rub ha...  \n",
       "3      I bought the green tea version of these wipes ...  \n",
       "4               Nice and cleansing, only 10 wipes though  \n",
       "...                                                  ...  \n",
       "35159  I put this on every morning after washing my f...  \n",
       "35160  so this was a random purchase, i literally jus...  \n",
       "35161  Was skeptical but took the plunge based solely...  \n",
       "35162  I've been using pretty religiously for over 10...  \n",
       "35163  I was very excited about this but hesitant to ...  \n",
       "\n",
       "[35164 rows x 9 columns]"
      ]
     },
     "execution_count": 6,
     "metadata": {},
     "output_type": "execute_result"
    }
   ],
   "source": [
    "reviews"
   ]
  },
  {
   "cell_type": "markdown",
   "id": "representative-burning",
   "metadata": {},
   "source": [
    "# 2.0 Data wrangling and pre-processing"
   ]
  },
  {
   "cell_type": "markdown",
   "id": "known-identifier",
   "metadata": {},
   "source": [
    "### 2.1 Data wrangling"
   ]
  },
  {
   "cell_type": "code",
   "execution_count": 7,
   "id": "conservative-nigeria",
   "metadata": {},
   "outputs": [
    {
     "data": {
      "text/html": [
       "<div>\n",
       "<style scoped>\n",
       "    .dataframe tbody tr th:only-of-type {\n",
       "        vertical-align: middle;\n",
       "    }\n",
       "\n",
       "    .dataframe tbody tr th {\n",
       "        vertical-align: top;\n",
       "    }\n",
       "\n",
       "    .dataframe thead th {\n",
       "        text-align: right;\n",
       "    }\n",
       "</style>\n",
       "<table border=\"1\" class=\"dataframe\">\n",
       "  <thead>\n",
       "    <tr style=\"text-align: right;\">\n",
       "      <th></th>\n",
       "      <th>r_star</th>\n",
       "    </tr>\n",
       "  </thead>\n",
       "  <tbody>\n",
       "    <tr>\n",
       "      <th>count</th>\n",
       "      <td>35164.000000</td>\n",
       "    </tr>\n",
       "    <tr>\n",
       "      <th>mean</th>\n",
       "      <td>4.238483</td>\n",
       "    </tr>\n",
       "    <tr>\n",
       "      <th>std</th>\n",
       "      <td>1.221904</td>\n",
       "    </tr>\n",
       "    <tr>\n",
       "      <th>min</th>\n",
       "      <td>1.000000</td>\n",
       "    </tr>\n",
       "    <tr>\n",
       "      <th>25%</th>\n",
       "      <td>4.000000</td>\n",
       "    </tr>\n",
       "    <tr>\n",
       "      <th>50%</th>\n",
       "      <td>5.000000</td>\n",
       "    </tr>\n",
       "    <tr>\n",
       "      <th>75%</th>\n",
       "      <td>5.000000</td>\n",
       "    </tr>\n",
       "    <tr>\n",
       "      <th>max</th>\n",
       "      <td>5.000000</td>\n",
       "    </tr>\n",
       "  </tbody>\n",
       "</table>\n",
       "</div>"
      ],
      "text/plain": [
       "             r_star\n",
       "count  35164.000000\n",
       "mean       4.238483\n",
       "std        1.221904\n",
       "min        1.000000\n",
       "25%        4.000000\n",
       "50%        5.000000\n",
       "75%        5.000000\n",
       "max        5.000000"
      ]
     },
     "execution_count": 7,
     "metadata": {},
     "output_type": "execute_result"
    }
   ],
   "source": [
    "reviews.describe()"
   ]
  },
  {
   "cell_type": "code",
   "execution_count": 8,
   "id": "polyphonic-movie",
   "metadata": {},
   "outputs": [
    {
     "name": "stdout",
     "output_type": "stream",
     "text": [
      "<class 'pandas.core.frame.DataFrame'>\n",
      "RangeIndex: 35164 entries, 0 to 35163\n",
      "Data columns (total 9 columns):\n",
      " #   Column          Non-Null Count  Dtype \n",
      "---  ------          --------------  ----- \n",
      " 0   reviewer        34924 non-null  object\n",
      " 1   r_productid     35164 non-null  object\n",
      " 2   r_star          35164 non-null  int64 \n",
      " 3   r_eyecolor      27097 non-null  object\n",
      " 4   r_haircolor     27159 non-null  object\n",
      " 5   r_skintone      28850 non-null  object\n",
      " 6   r_skintype      31127 non-null  object\n",
      " 7   r_skinconcerns  25067 non-null  object\n",
      " 8   r_review        35116 non-null  object\n",
      "dtypes: int64(1), object(8)\n",
      "memory usage: 2.4+ MB\n"
     ]
    }
   ],
   "source": [
    "reviews.info()"
   ]
  },
  {
   "cell_type": "markdown",
   "id": "occasional-seller",
   "metadata": {},
   "source": [
    "**Check for duplicated entries**"
   ]
  },
  {
   "cell_type": "code",
   "execution_count": 9,
   "id": "cooked-observation",
   "metadata": {
    "scrolled": true
   },
   "outputs": [
    {
     "data": {
      "text/plain": [
       "P412117    424\n",
       "P445464    373\n",
       "P414293    361\n",
       "P460758    328\n",
       "P452701    312\n",
       "          ... \n",
       "P442752    128\n",
       "P455636    128\n",
       "P436919    128\n",
       "P247716    126\n",
       "P399751    125\n",
       "Name: r_productid, Length: 125, dtype: int64"
      ]
     },
     "execution_count": 9,
     "metadata": {},
     "output_type": "execute_result"
    }
   ],
   "source": [
    "#indicative of duplicated entries, expecting only a 100 reviews per product\n",
    "reviews.r_productid.value_counts()[:125]"
   ]
  },
  {
   "cell_type": "code",
   "execution_count": 10,
   "id": "japanese-forestry",
   "metadata": {},
   "outputs": [
    {
     "data": {
      "text/plain": [
       "(35164, 9)"
      ]
     },
     "execution_count": 10,
     "metadata": {},
     "output_type": "execute_result"
    }
   ],
   "source": [
    "reviews.shape"
   ]
  },
  {
   "cell_type": "code",
   "execution_count": 11,
   "id": "surrounded-worship",
   "metadata": {},
   "outputs": [],
   "source": [
    "#Drop duplicated entries\n",
    "reviews.drop(reviews[reviews.duplicated(keep='first')].index, inplace=True)"
   ]
  },
  {
   "cell_type": "code",
   "execution_count": 12,
   "id": "stone-favorite",
   "metadata": {},
   "outputs": [
    {
     "data": {
      "text/plain": [
       "(18849, 9)"
      ]
     },
     "execution_count": 12,
     "metadata": {},
     "output_type": "execute_result"
    }
   ],
   "source": [
    "reviews.shape"
   ]
  },
  {
   "cell_type": "markdown",
   "id": "single-necessity",
   "metadata": {},
   "source": [
    "**Check missing data**"
   ]
  },
  {
   "cell_type": "code",
   "execution_count": 13,
   "id": "false-italian",
   "metadata": {
    "scrolled": true
   },
   "outputs": [
    {
     "data": {
      "text/plain": [
       "reviewer           137\n",
       "r_productid          0\n",
       "r_star               0\n",
       "r_eyecolor        4587\n",
       "r_haircolor       4604\n",
       "r_skintone        3608\n",
       "r_skintype        2391\n",
       "r_skinconcerns    5598\n",
       "r_review            19\n",
       "dtype: int64"
      ]
     },
     "execution_count": 13,
     "metadata": {},
     "output_type": "execute_result"
    }
   ],
   "source": [
    "#Check for missing values\n",
    "reviews.isnull().sum()"
   ]
  },
  {
   "cell_type": "code",
   "execution_count": 14,
   "id": "bigger-recognition",
   "metadata": {},
   "outputs": [
    {
     "name": "stdout",
     "output_type": "stream",
     "text": [
      "31.95 % of the entries have a missing value\n"
     ]
    }
   ],
   "source": [
    "print(f'{round(reviews.isnull().any(axis=1).sum()/reviews.shape[0]*100,2)} % of the entries have a missing value')"
   ]
  },
  {
   "cell_type": "code",
   "execution_count": 15,
   "id": "romantic-sleep",
   "metadata": {},
   "outputs": [
    {
     "data": {
      "image/png": "[encoded data removed]",
      "text/plain": [
       "<Figure size 1800x720 with 2 Axes>"
      ]
     },
     "metadata": {
      "needs_background": "light"
     },
     "output_type": "display_data"
    }
   ],
   "source": [
    "#Looks like reviews are complete; however, many entries have missing reviewer attributes.\n",
    "msno.matrix(reviews)\n",
    "plt.show()"
   ]
  },
  {
   "cell_type": "code",
   "execution_count": 16,
   "id": "searching-repeat",
   "metadata": {},
   "outputs": [
    {
     "data": {
      "image/png": "[encoded data removed]",
      "text/plain": [
       "<Figure size 1440x864 with 2 Axes>"
      ]
     },
     "metadata": {
      "needs_background": "light"
     },
     "output_type": "display_data"
    }
   ],
   "source": [
    "#Confirming type of missingness - features are related to each other; not too surprising as possibly the user did not fill in the details altogether\n",
    "msno.heatmap(reviews)\n",
    "plt.show()"
   ]
  },
  {
   "cell_type": "code",
   "execution_count": 17,
   "id": "wrapped-gauge",
   "metadata": {},
   "outputs": [
    {
     "data": {
      "image/png": "[encoded data removed]",
      "text/plain": [
       "<Figure size 1728x720 with 3 Axes>"
      ]
     },
     "metadata": {
      "needs_background": "light"
     },
     "output_type": "display_data"
    }
   ],
   "source": [
    "msno.bar(reviews)\n",
    "plt.show()"
   ]
  },
  {
   "cell_type": "markdown",
   "id": "polar-wrong",
   "metadata": {},
   "source": [
    "<font color='red'> To discuss with DJ: \n",
    "- I'd like to retain this as much as possible \n",
    "- Imputing them before training \n",
    "- to discuss whether to delete the ones where there are no reviewer attributes or no reviews at all</font>"
   ]
  },
  {
   "cell_type": "markdown",
   "id": "hidden-leonard",
   "metadata": {},
   "source": [
    "Option 1: use mode to impute missing values"
   ]
  },
  {
   "cell_type": "code",
   "execution_count": 18,
   "id": "personalized-board",
   "metadata": {
    "scrolled": true
   },
   "outputs": [
    {
     "data": {
      "text/plain": [
       "2257"
      ]
     },
     "execution_count": 18,
     "metadata": {},
     "output_type": "execute_result"
    }
   ],
   "source": [
    "#How many do not have all reviewer attributes \n",
    "reviews[reviews['r_eyecolor'].isna() & reviews['r_haircolor'].isna() &\n",
    "        reviews['r_skintone'].isna() & reviews['r_skintype'].isna()].shape[0]"
   ]
  },
  {
   "cell_type": "code",
   "execution_count": 19,
   "id": "incomplete-directory",
   "metadata": {},
   "outputs": [],
   "source": [
    "reviews_df= reviews.copy()"
   ]
  },
  {
   "cell_type": "code",
   "execution_count": 20,
   "id": "digital-words",
   "metadata": {},
   "outputs": [],
   "source": [
    "#Impute with the mode\n",
    "reviews_df['r_eyecolor'] = reviews.r_eyecolor.fillna(value='brown')\n",
    "reviews_df['r_haircolor'] = reviews.r_haircolor.fillna(value='brunette')\n",
    "reviews_df['r_skintone'] = reviews.r_skintone.fillna(value='light')"
   ]
  },
  {
   "cell_type": "code",
   "execution_count": 21,
   "id": "arbitrary-deadline",
   "metadata": {
    "scrolled": true
   },
   "outputs": [
    {
     "data": {
      "text/plain": [
       "reviewer           137\n",
       "r_productid          0\n",
       "r_star               0\n",
       "r_eyecolor           0\n",
       "r_haircolor          0\n",
       "r_skintone           0\n",
       "r_skintype        2391\n",
       "r_skinconcerns    5598\n",
       "r_review            19\n",
       "dtype: int64"
      ]
     },
     "execution_count": 21,
     "metadata": {},
     "output_type": "execute_result"
    }
   ],
   "source": [
    "reviews_df.isna().sum()"
   ]
  },
  {
   "cell_type": "code",
   "execution_count": 22,
   "id": "entitled-evans",
   "metadata": {},
   "outputs": [],
   "source": [
    "#Impute empty reviews\n",
    "reviews_df['r_review']=reviews_df['r_review'].fillna('')"
   ]
  },
  {
   "cell_type": "code",
   "execution_count": 23,
   "id": "critical-champion",
   "metadata": {},
   "outputs": [
    {
     "data": {
      "text/plain": [
       "combination    8966\n",
       "dry            3196\n",
       "normal         2226\n",
       "oily           2070\n",
       "Name: r_skintype, dtype: int64"
      ]
     },
     "execution_count": 23,
     "metadata": {},
     "output_type": "execute_result"
    }
   ],
   "source": [
    "reviews_df.r_skintype.value_counts()"
   ]
  },
  {
   "cell_type": "code",
   "execution_count": 24,
   "id": "fantastic-external",
   "metadata": {},
   "outputs": [],
   "source": [
    "#Most common skintype cross-checked with domain knowledge - combination\n",
    "reviews_df['r_skintype']=reviews_df['r_skintype'].fillna('combination')"
   ]
  },
  {
   "cell_type": "code",
   "execution_count": 25,
   "id": "southwest-slave",
   "metadata": {},
   "outputs": [],
   "source": [
    "#Add a new category for skinconcerns\n",
    "reviews_df['r_skinconcerns']=reviews_df['r_skinconcerns'].fillna('unspecified')"
   ]
  },
  {
   "cell_type": "code",
   "execution_count": 26,
   "id": "gorgeous-biotechnology",
   "metadata": {
    "scrolled": true
   },
   "outputs": [
    {
     "data": {
      "text/html": [
       "<div>\n",
       "<style scoped>\n",
       "    .dataframe tbody tr th:only-of-type {\n",
       "        vertical-align: middle;\n",
       "    }\n",
       "\n",
       "    .dataframe tbody tr th {\n",
       "        vertical-align: top;\n",
       "    }\n",
       "\n",
       "    .dataframe thead th {\n",
       "        text-align: right;\n",
       "    }\n",
       "</style>\n",
       "<table border=\"1\" class=\"dataframe\">\n",
       "  <thead>\n",
       "    <tr style=\"text-align: right;\">\n",
       "      <th></th>\n",
       "      <th>reviewer</th>\n",
       "      <th>r_productid</th>\n",
       "      <th>r_star</th>\n",
       "      <th>r_eyecolor</th>\n",
       "      <th>r_haircolor</th>\n",
       "      <th>r_skintone</th>\n",
       "      <th>r_skintype</th>\n",
       "      <th>r_skinconcerns</th>\n",
       "      <th>r_review</th>\n",
       "    </tr>\n",
       "  </thead>\n",
       "  <tbody>\n",
       "    <tr>\n",
       "      <th>0</th>\n",
       "      <td>kelsb5</td>\n",
       "      <td>P409800</td>\n",
       "      <td>5</td>\n",
       "      <td>blue</td>\n",
       "      <td>blonde</td>\n",
       "      <td>light</td>\n",
       "      <td>combination</td>\n",
       "      <td>acne</td>\n",
       "      <td>Love this mini compact wipes bag! I bought the...</td>\n",
       "    </tr>\n",
       "    <tr>\n",
       "      <th>1</th>\n",
       "      <td>fairytatiana</td>\n",
       "      <td>P409800</td>\n",
       "      <td>4</td>\n",
       "      <td>blue</td>\n",
       "      <td>brunette</td>\n",
       "      <td>light</td>\n",
       "      <td>combination</td>\n",
       "      <td>acne</td>\n",
       "      <td>very good, it can take most of your makeup wit...</td>\n",
       "    </tr>\n",
       "    <tr>\n",
       "      <th>2</th>\n",
       "      <td>baimhas</td>\n",
       "      <td>P409800</td>\n",
       "      <td>5</td>\n",
       "      <td>blue</td>\n",
       "      <td>blonde</td>\n",
       "      <td>porcelain</td>\n",
       "      <td>dry</td>\n",
       "      <td>calluses</td>\n",
       "      <td>Love the watermelon ones! Don’t have to rub ha...</td>\n",
       "    </tr>\n",
       "    <tr>\n",
       "      <th>3</th>\n",
       "      <td>haleymcm</td>\n",
       "      <td>P409800</td>\n",
       "      <td>2</td>\n",
       "      <td>brown</td>\n",
       "      <td>brunette</td>\n",
       "      <td>light</td>\n",
       "      <td>combination</td>\n",
       "      <td>unspecified</td>\n",
       "      <td>I bought the green tea version of these wipes ...</td>\n",
       "    </tr>\n",
       "    <tr>\n",
       "      <th>4</th>\n",
       "      <td>mariahswannie</td>\n",
       "      <td>P409800</td>\n",
       "      <td>4</td>\n",
       "      <td>blue</td>\n",
       "      <td>brunette</td>\n",
       "      <td>porcelain</td>\n",
       "      <td>dry</td>\n",
       "      <td>darkCircles</td>\n",
       "      <td>Nice and cleansing, only 10 wipes though</td>\n",
       "    </tr>\n",
       "    <tr>\n",
       "      <th>...</th>\n",
       "      <td>...</td>\n",
       "      <td>...</td>\n",
       "      <td>...</td>\n",
       "      <td>...</td>\n",
       "      <td>...</td>\n",
       "      <td>...</td>\n",
       "      <td>...</td>\n",
       "      <td>...</td>\n",
       "      <td>...</td>\n",
       "    </tr>\n",
       "    <tr>\n",
       "      <th>35137</th>\n",
       "      <td>narkissos</td>\n",
       "      <td>P418301</td>\n",
       "      <td>5</td>\n",
       "      <td>blue</td>\n",
       "      <td>brunette</td>\n",
       "      <td>light</td>\n",
       "      <td>combination</td>\n",
       "      <td>acne</td>\n",
       "      <td>The warmth from this device really augments mo...</td>\n",
       "    </tr>\n",
       "    <tr>\n",
       "      <th>35138</th>\n",
       "      <td>MyFeedbacks</td>\n",
       "      <td>P418301</td>\n",
       "      <td>4</td>\n",
       "      <td>brown</td>\n",
       "      <td>brunette</td>\n",
       "      <td>medium</td>\n",
       "      <td>combination</td>\n",
       "      <td>acne</td>\n",
       "      <td>Can you please give access to the Canadian buy...</td>\n",
       "    </tr>\n",
       "    <tr>\n",
       "      <th>35139</th>\n",
       "      <td>lusciousliving</td>\n",
       "      <td>P418301</td>\n",
       "      <td>2</td>\n",
       "      <td>hazel</td>\n",
       "      <td>brunette</td>\n",
       "      <td>fair</td>\n",
       "      <td>normal</td>\n",
       "      <td>aging</td>\n",
       "      <td>I've been using this for 3 nights in a row, so...</td>\n",
       "    </tr>\n",
       "    <tr>\n",
       "      <th>35140</th>\n",
       "      <td>damselflavored</td>\n",
       "      <td>P418301</td>\n",
       "      <td>4</td>\n",
       "      <td>brown</td>\n",
       "      <td>brunette</td>\n",
       "      <td>light</td>\n",
       "      <td>combination</td>\n",
       "      <td>unspecified</td>\n",
       "      <td>It's so easy to use although I don't have fine...</td>\n",
       "    </tr>\n",
       "    <tr>\n",
       "      <th>35141</th>\n",
       "      <td>AshleyA36</td>\n",
       "      <td>P418301</td>\n",
       "      <td>5</td>\n",
       "      <td>brown</td>\n",
       "      <td>brunette</td>\n",
       "      <td>fair</td>\n",
       "      <td>dry</td>\n",
       "      <td>aging</td>\n",
       "      <td>I can tell a big difference in just a week and...</td>\n",
       "    </tr>\n",
       "  </tbody>\n",
       "</table>\n",
       "<p>18849 rows × 9 columns</p>\n",
       "</div>"
      ],
      "text/plain": [
       "             reviewer r_productid  r_star r_eyecolor r_haircolor r_skintone  \\\n",
       "0              kelsb5     P409800       5       blue      blonde      light   \n",
       "1        fairytatiana     P409800       4       blue    brunette      light   \n",
       "2             baimhas     P409800       5       blue      blonde  porcelain   \n",
       "3            haleymcm     P409800       2      brown    brunette      light   \n",
       "4       mariahswannie     P409800       4       blue    brunette  porcelain   \n",
       "...               ...         ...     ...        ...         ...        ...   \n",
       "35137       narkissos     P418301       5       blue    brunette      light   \n",
       "35138     MyFeedbacks     P418301       4      brown    brunette     medium   \n",
       "35139  lusciousliving     P418301       2      hazel    brunette       fair   \n",
       "35140  damselflavored     P418301       4      brown    brunette      light   \n",
       "35141       AshleyA36     P418301       5      brown    brunette       fair   \n",
       "\n",
       "        r_skintype r_skinconcerns  \\\n",
       "0      combination           acne   \n",
       "1      combination           acne   \n",
       "2              dry       calluses   \n",
       "3      combination    unspecified   \n",
       "4              dry    darkCircles   \n",
       "...            ...            ...   \n",
       "35137  combination           acne   \n",
       "35138  combination           acne   \n",
       "35139       normal          aging   \n",
       "35140  combination    unspecified   \n",
       "35141          dry          aging   \n",
       "\n",
       "                                                r_review  \n",
       "0      Love this mini compact wipes bag! I bought the...  \n",
       "1      very good, it can take most of your makeup wit...  \n",
       "2      Love the watermelon ones! Don’t have to rub ha...  \n",
       "3      I bought the green tea version of these wipes ...  \n",
       "4               Nice and cleansing, only 10 wipes though  \n",
       "...                                                  ...  \n",
       "35137  The warmth from this device really augments mo...  \n",
       "35138  Can you please give access to the Canadian buy...  \n",
       "35139  I've been using this for 3 nights in a row, so...  \n",
       "35140  It's so easy to use although I don't have fine...  \n",
       "35141  I can tell a big difference in just a week and...  \n",
       "\n",
       "[18849 rows x 9 columns]"
      ]
     },
     "execution_count": 26,
     "metadata": {},
     "output_type": "execute_result"
    }
   ],
   "source": [
    "reviews_df"
   ]
  },
  {
   "cell_type": "code",
   "execution_count": 27,
   "id": "handed-jumping",
   "metadata": {},
   "outputs": [],
   "source": [
    "reviews_df.reset_index(drop=True, inplace=True)"
   ]
  },
  {
   "cell_type": "markdown",
   "id": "interim-china",
   "metadata": {},
   "source": [
    "**Inspect features**"
   ]
  },
  {
   "cell_type": "code",
   "execution_count": 41,
   "id": "communist-departure",
   "metadata": {},
   "outputs": [
    {
     "data": {
      "text/plain": [
       "brown    11993\n",
       "blue      2801\n",
       "green     1997\n",
       "hazel     1961\n",
       "gray        97\n",
       "Name: r_eyecolor, dtype: int64"
      ]
     },
     "execution_count": 41,
     "metadata": {},
     "output_type": "execute_result"
    }
   ],
   "source": [
    "reviews_df['r_eyecolor'].value_counts()"
   ]
  },
  {
   "cell_type": "code",
   "execution_count": 82,
   "id": "occasional-homework",
   "metadata": {},
   "outputs": [
    {
     "data": {
      "text/plain": [
       "acne               6368\n",
       "aging              3704\n",
       "blackheads          893\n",
       "darkCircles         656\n",
       "dullness            607\n",
       "sensitivity         323\n",
       "redness             274\n",
       "sunDamage           169\n",
       "cellulite           100\n",
       "pores                70\n",
       "unevenSkinTones      27\n",
       "cuticles             22\n",
       "stretchMarks         19\n",
       "calluses             17\n",
       "puffiness             2\n",
       "Name: r_skinconcerns, dtype: int64"
      ]
     },
     "execution_count": 82,
     "metadata": {},
     "output_type": "execute_result"
    }
   ],
   "source": [
    "reviews.r_skinconcerns.value_counts()"
   ]
  },
  {
   "cell_type": "code",
   "execution_count": null,
   "id": "sharing-warehouse",
   "metadata": {},
   "outputs": [],
   "source": [
    "#Merge categories for skincare concerns and turn into categorical "
   ]
  },
  {
   "cell_type": "code",
   "execution_count": null,
   "id": "concerned-january",
   "metadata": {},
   "outputs": [],
   "source": []
  },
  {
   "cell_type": "markdown",
   "id": "bibliographic-partition",
   "metadata": {},
   "source": [
    "**Check data types**"
   ]
  },
  {
   "cell_type": "code",
   "execution_count": 28,
   "id": "immediate-scholar",
   "metadata": {},
   "outputs": [
    {
     "name": "stdout",
     "output_type": "stream",
     "text": [
      "<class 'pandas.core.frame.DataFrame'>\n",
      "RangeIndex: 18849 entries, 0 to 18848\n",
      "Data columns (total 9 columns):\n",
      " #   Column          Non-Null Count  Dtype \n",
      "---  ------          --------------  ----- \n",
      " 0   reviewer        18712 non-null  object\n",
      " 1   r_productid     18849 non-null  object\n",
      " 2   r_star          18849 non-null  int64 \n",
      " 3   r_eyecolor      18849 non-null  object\n",
      " 4   r_haircolor     18849 non-null  object\n",
      " 5   r_skintone      18849 non-null  object\n",
      " 6   r_skintype      18849 non-null  object\n",
      " 7   r_skinconcerns  18849 non-null  object\n",
      " 8   r_review        18849 non-null  object\n",
      "dtypes: int64(1), object(8)\n",
      "memory usage: 1.3+ MB\n"
     ]
    }
   ],
   "source": [
    "reviews_df.info()"
   ]
  },
  {
   "cell_type": "code",
   "execution_count": 31,
   "id": "virgin-private",
   "metadata": {},
   "outputs": [],
   "source": [
    "reviews_df['r_star']= pd.to_numeric(reviews_df['r_star'])"
   ]
  },
  {
   "cell_type": "code",
   "execution_count": null,
   "id": "existing-professional",
   "metadata": {},
   "outputs": [],
   "source": []
  },
  {
   "cell_type": "code",
   "execution_count": null,
   "id": "first-alert",
   "metadata": {},
   "outputs": [],
   "source": []
  },
  {
   "cell_type": "code",
   "execution_count": null,
   "id": "third-victor",
   "metadata": {},
   "outputs": [],
   "source": []
  },
  {
   "cell_type": "code",
   "execution_count": null,
   "id": "liquid-arbor",
   "metadata": {},
   "outputs": [],
   "source": []
  },
  {
   "cell_type": "markdown",
   "id": "wired-blues",
   "metadata": {},
   "source": [
    "### 2.2 Cleaning the reviews"
   ]
  },
  {
   "cell_type": "markdown",
   "id": "completed-penny",
   "metadata": {},
   "source": [
    "NOTE: reviews_df - imputed; reviews - not imputed!"
   ]
  },
  {
   "cell_type": "code",
   "execution_count": 28,
   "id": "advised-collect",
   "metadata": {},
   "outputs": [],
   "source": [
    "#Change reviews type into string\n",
    "reviews['r_review'] = reviews.r_review.apply(lambda x: str(x))"
   ]
  },
  {
   "cell_type": "markdown",
   "id": "dress-cincinnati",
   "metadata": {},
   "source": [
    "**Clean the text**"
   ]
  },
  {
   "cell_type": "code",
   "execution_count": 30,
   "id": "heated-ribbon",
   "metadata": {},
   "outputs": [],
   "source": [
    "stop_words = nltk.corpus.stopwords.words('english')\n",
    "def normalize_document(doc):\n",
    "    '''\n",
    "    Converts into string format, transforms into lowercase, \n",
    "    removes special characters and whitespaces, expands contractions\n",
    "    '''\n",
    "    # lower case and remove special characters\\whitespaces\n",
    "    doc = re.sub(r'[^a-zA-Z0-9\\s]', '', doc, re.I|re.A)\n",
    "    doc = doc.lower()\n",
    "    doc = doc.strip()\n",
    "    doc = contractions.fix(doc)\n",
    "    # tokenize document\n",
    "    tokens = nltk.word_tokenize(doc)\n",
    "    #filter stopwords out of document\n",
    "    filtered_tokens = [token for token in tokens if token not in stop_words]\n",
    "    # re-create document from filtered tokens\n",
    "    doc = ' '.join(filtered_tokens)\n",
    "    return doc"
   ]
  },
  {
   "cell_type": "code",
   "execution_count": 47,
   "id": "whole-cuisine",
   "metadata": {},
   "outputs": [],
   "source": [
    "reviews['r_review']=reviews.r_review.apply(lambda x: normalize_document(x))"
   ]
  },
  {
   "cell_type": "code",
   "execution_count": 65,
   "id": "cooperative-color",
   "metadata": {},
   "outputs": [],
   "source": [
    "#Create a corpus \n",
    "corpus=[]\n",
    "for i in reviews['r_review']:\n",
    "    corpus.append(i)"
   ]
  },
  {
   "cell_type": "markdown",
   "id": "ordered-bosnia",
   "metadata": {},
   "source": [
    "**Lemmatize text**"
   ]
  },
  {
   "cell_type": "code",
   "execution_count": 42,
   "id": "minute-encoding",
   "metadata": {},
   "outputs": [],
   "source": [
    "def pos_tag_wordnet(tagged_tokens):\n",
    "    tag_map = {'j': wordnet.ADJ, 'v': wordnet.VERB, 'n': wordnet.NOUN, 'r': wordnet.ADV}\n",
    "    new_tagged_tokens = [(word, tag_map.get(tag[0].lower(), wordnet.NOUN))\n",
    "                            for word, tag in tagged_tokens]\n",
    "    return new_tagged_tokens"
   ]
  },
  {
   "cell_type": "code",
   "execution_count": 45,
   "id": "academic-inspection",
   "metadata": {},
   "outputs": [],
   "source": [
    "wnl= WordNetLemmatizer()\n",
    "\n",
    "def lemmatize_text(text):\n",
    "    '''\n",
    "    Lemmatize the text \n",
    "    '''\n",
    "    tagged_tokens= nltk.pos_tag(nltk.word_tokenize(text))\n",
    "    wordnet_tokens= pos_tag_wordnet(tagged_tokens)\n",
    "    lemmatized_text= ' '.join(wnl.lemmatize(word, tag) for word, tag in wordnet_tokens)\n",
    "    return lemmatized_text"
   ]
  },
  {
   "cell_type": "code",
   "execution_count": 49,
   "id": "atmospheric-aggregate",
   "metadata": {},
   "outputs": [],
   "source": [
    "reviews['r_review']= reviews['r_review'].apply(lambda x: lemmatize_text(x))"
   ]
  },
  {
   "cell_type": "code",
   "execution_count": 50,
   "id": "noble-orchestra",
   "metadata": {
    "scrolled": true
   },
   "outputs": [
    {
     "data": {
      "text/html": [
       "<div>\n",
       "<style scoped>\n",
       "    .dataframe tbody tr th:only-of-type {\n",
       "        vertical-align: middle;\n",
       "    }\n",
       "\n",
       "    .dataframe tbody tr th {\n",
       "        vertical-align: top;\n",
       "    }\n",
       "\n",
       "    .dataframe thead th {\n",
       "        text-align: right;\n",
       "    }\n",
       "</style>\n",
       "<table border=\"1\" class=\"dataframe\">\n",
       "  <thead>\n",
       "    <tr style=\"text-align: right;\">\n",
       "      <th></th>\n",
       "      <th>0</th>\n",
       "      <th>1</th>\n",
       "      <th>2</th>\n",
       "      <th>3</th>\n",
       "      <th>4</th>\n",
       "    </tr>\n",
       "  </thead>\n",
       "  <tbody>\n",
       "    <tr>\n",
       "      <th>reviewer</th>\n",
       "      <td>kelsb5</td>\n",
       "      <td>fairytatiana</td>\n",
       "      <td>baimhas</td>\n",
       "      <td>haleymcm</td>\n",
       "      <td>mariahswannie</td>\n",
       "    </tr>\n",
       "    <tr>\n",
       "      <th>r_productid</th>\n",
       "      <td>P409800</td>\n",
       "      <td>P409800</td>\n",
       "      <td>P409800</td>\n",
       "      <td>P409800</td>\n",
       "      <td>P409800</td>\n",
       "    </tr>\n",
       "    <tr>\n",
       "      <th>r_star</th>\n",
       "      <td>5</td>\n",
       "      <td>4</td>\n",
       "      <td>5</td>\n",
       "      <td>2</td>\n",
       "      <td>4</td>\n",
       "    </tr>\n",
       "    <tr>\n",
       "      <th>r_eyecolor</th>\n",
       "      <td>blue</td>\n",
       "      <td>blue</td>\n",
       "      <td>blue</td>\n",
       "      <td>None</td>\n",
       "      <td>blue</td>\n",
       "    </tr>\n",
       "    <tr>\n",
       "      <th>r_haircolor</th>\n",
       "      <td>blonde</td>\n",
       "      <td>brunette</td>\n",
       "      <td>blonde</td>\n",
       "      <td>None</td>\n",
       "      <td>brunette</td>\n",
       "    </tr>\n",
       "    <tr>\n",
       "      <th>r_skintone</th>\n",
       "      <td>light</td>\n",
       "      <td>light</td>\n",
       "      <td>porcelain</td>\n",
       "      <td>None</td>\n",
       "      <td>porcelain</td>\n",
       "    </tr>\n",
       "    <tr>\n",
       "      <th>r_skintype</th>\n",
       "      <td>combination</td>\n",
       "      <td>combination</td>\n",
       "      <td>dry</td>\n",
       "      <td>None</td>\n",
       "      <td>dry</td>\n",
       "    </tr>\n",
       "    <tr>\n",
       "      <th>r_skinconcerns</th>\n",
       "      <td>acne</td>\n",
       "      <td>acne</td>\n",
       "      <td>calluses</td>\n",
       "      <td>None</td>\n",
       "      <td>darkCircles</td>\n",
       "    </tr>\n",
       "    <tr>\n",
       "      <th>r_review</th>\n",
       "      <td>love mini compact wipe bag buy part gift chris...</td>\n",
       "      <td>good take makeup one wipe</td>\n",
       "      <td>love watermelon one rub hard get eye makeup su...</td>\n",
       "      <td>buy green tea version wipe remove makeup someh...</td>\n",
       "      <td>nice cleanse 10 wipe though</td>\n",
       "    </tr>\n",
       "  </tbody>\n",
       "</table>\n",
       "</div>"
      ],
      "text/plain": [
       "                                                                0  \\\n",
       "reviewer                                                   kelsb5   \n",
       "r_productid                                               P409800   \n",
       "r_star                                                          5   \n",
       "r_eyecolor                                                   blue   \n",
       "r_haircolor                                                blonde   \n",
       "r_skintone                                                  light   \n",
       "r_skintype                                            combination   \n",
       "r_skinconcerns                                               acne   \n",
       "r_review        love mini compact wipe bag buy part gift chris...   \n",
       "\n",
       "                                        1  \\\n",
       "reviewer                     fairytatiana   \n",
       "r_productid                       P409800   \n",
       "r_star                                  4   \n",
       "r_eyecolor                           blue   \n",
       "r_haircolor                      brunette   \n",
       "r_skintone                          light   \n",
       "r_skintype                    combination   \n",
       "r_skinconcerns                       acne   \n",
       "r_review        good take makeup one wipe   \n",
       "\n",
       "                                                                2  \\\n",
       "reviewer                                                  baimhas   \n",
       "r_productid                                               P409800   \n",
       "r_star                                                          5   \n",
       "r_eyecolor                                                   blue   \n",
       "r_haircolor                                                blonde   \n",
       "r_skintone                                              porcelain   \n",
       "r_skintype                                                    dry   \n",
       "r_skinconcerns                                           calluses   \n",
       "r_review        love watermelon one rub hard get eye makeup su...   \n",
       "\n",
       "                                                                3  \\\n",
       "reviewer                                                 haleymcm   \n",
       "r_productid                                               P409800   \n",
       "r_star                                                          2   \n",
       "r_eyecolor                                                   None   \n",
       "r_haircolor                                                  None   \n",
       "r_skintone                                                   None   \n",
       "r_skintype                                                   None   \n",
       "r_skinconcerns                                               None   \n",
       "r_review        buy green tea version wipe remove makeup someh...   \n",
       "\n",
       "                                          4  \n",
       "reviewer                      mariahswannie  \n",
       "r_productid                         P409800  \n",
       "r_star                                    4  \n",
       "r_eyecolor                             blue  \n",
       "r_haircolor                        brunette  \n",
       "r_skintone                        porcelain  \n",
       "r_skintype                              dry  \n",
       "r_skinconcerns                  darkCircles  \n",
       "r_review        nice cleanse 10 wipe though  "
      ]
     },
     "execution_count": 50,
     "metadata": {},
     "output_type": "execute_result"
    }
   ],
   "source": [
    "reviews.head().T"
   ]
  },
  {
   "cell_type": "code",
   "execution_count": null,
   "id": "dedicated-rolling",
   "metadata": {},
   "outputs": [],
   "source": []
  },
  {
   "cell_type": "code",
   "execution_count": null,
   "id": "above-nirvana",
   "metadata": {},
   "outputs": [],
   "source": []
  },
  {
   "cell_type": "code",
   "execution_count": null,
   "id": "chinese-world",
   "metadata": {},
   "outputs": [],
   "source": []
  },
  {
   "cell_type": "markdown",
   "id": "daily-cabin",
   "metadata": {},
   "source": [
    "## 3.0 Saving dataframe to file"
   ]
  },
  {
   "cell_type": "code",
   "execution_count": null,
   "id": "indoor-cradle",
   "metadata": {},
   "outputs": [],
   "source": [
    "datapath = '../data/processed_data'\n",
    "if not os.path.exists(datapath):\n",
    "    os.mkdir(datapath)\n",
    "    \n",
    "datapath_df = os.path.join(datapath, 'reviews_cleaned.json')\n",
    "if not os.path.exists(datapath_df):\n",
    "    reviews_df.to_json(datapath_df)"
   ]
  },
  {
   "cell_type": "markdown",
   "id": "mathematical-jamaica",
   "metadata": {},
   "source": [
    "For future notebooks:\n",
    "- EDA \n",
    "- Merge into main then feature engineer\n",
    "    - turn into categorical or one-hot encoding"
   ]
  }
 ],
 "metadata": {
  "kernelspec": {
   "display_name": "Python 3",
   "language": "python",
   "name": "python3"
  },
  "language_info": {
   "codemirror_mode": {
    "name": "ipython",
    "version": 3
   },
   "file_extension": ".py",
   "mimetype": "text/x-python",
   "name": "python",
   "nbconvert_exporter": "python",
   "pygments_lexer": "ipython3",
   "version": "3.8.2"
  }
 },
 "nbformat": 4,
 "nbformat_minor": 5
}
