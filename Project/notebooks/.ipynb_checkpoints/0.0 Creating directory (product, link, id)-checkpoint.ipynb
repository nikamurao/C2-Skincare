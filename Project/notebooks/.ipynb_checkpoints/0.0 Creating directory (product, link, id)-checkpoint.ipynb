{
 "cells": [
  {
   "cell_type": "markdown",
   "id": "presidential-explorer",
   "metadata": {},
   "source": [
    "### Extracting product id from the weblinks "
   ]
  },
  {
   "cell_type": "markdown",
   "id": "increasing-bulletin",
   "metadata": {},
   "source": [
    "Necessary step to act as reference for web scraping for reviews"
   ]
  },
  {
   "cell_type": "code",
   "execution_count": 2,
   "id": "amber-audit",
   "metadata": {},
   "outputs": [],
   "source": [
    "#Import necessary libraries\n",
    "import json \n",
    "import re\n",
    "import os\n",
    "import pandas as pd"
   ]
  },
  {
   "cell_type": "code",
   "execution_count": 3,
   "id": "stylish-firmware",
   "metadata": {},
   "outputs": [],
   "source": [
    "with open('../data/raw_data/initial.json', 'r') as file:\n",
    "    raw_data= json.load(file)\n",
    "df=pd.DataFrame.from_dict(raw_data)"
   ]
  },
  {
   "cell_type": "code",
   "execution_count": 4,
   "id": "distant-cassette",
   "metadata": {},
   "outputs": [],
   "source": [
    "df['product_id']=df.weblink.str.partition(sep='grid:')[2]"
   ]
  },
  {
   "cell_type": "code",
   "execution_count": 5,
   "id": "quality-finger",
   "metadata": {},
   "outputs": [
    {
     "data": {
      "text/plain": [
       "Index(['index', 'brand', 'name', 'about the product', 'weblink',\n",
       "       'sub_category', 'main_category', 'num_likes', 'img_link', 'price',\n",
       "       'size', 'ingredients', 'rating', 'num_reviews', 'highlights',\n",
       "       'product_name', 'sensitive', 'combination', 'oily', 'normal', 'dry',\n",
       "       'clean', 'cruelty-free', 'vegan', 'skin_concerns', 'excl_ingr',\n",
       "       'best for', 'acids', 'award', 'size_oz', 'size_ml', 'size_g',\n",
       "       'pricepervol', 'highlighted_ingr', 'clinical_results', 'formulation',\n",
       "       'formulation_type', 'richness', 'product_type', 'product_id'],\n",
       "      dtype='object')"
      ]
     },
     "execution_count": 5,
     "metadata": {},
     "output_type": "execute_result"
    }
   ],
   "source": [
    "df.columns"
   ]
  },
  {
   "cell_type": "code",
   "execution_count": 6,
   "id": "opened-thing",
   "metadata": {},
   "outputs": [],
   "source": [
    "df.drop(columns=['index'], inplace=True)"
   ]
  },
  {
   "cell_type": "code",
   "execution_count": 19,
   "id": "banner-district",
   "metadata": {},
   "outputs": [],
   "source": [
    "df_links_id=df[['product_name', 'weblink', 'product_id', 'num_reviews']].copy()"
   ]
  },
  {
   "cell_type": "code",
   "execution_count": 14,
   "id": "abroad-canal",
   "metadata": {},
   "outputs": [],
   "source": [
    "with open('../data/processed_data/combined_data.json', 'r') as file:\n",
    "    raw_data= json.load(file)\n",
    "selected=pd.DataFrame.from_dict(raw_data)"
   ]
  },
  {
   "cell_type": "code",
   "execution_count": 10,
   "id": "accredited-disabled",
   "metadata": {},
   "outputs": [],
   "source": [
    "selected_df= pd.merge(selected, df_links_id, on='product_name', how='left')"
   ]
  },
  {
   "cell_type": "code",
   "execution_count": 15,
   "id": "suspended-attribute",
   "metadata": {},
   "outputs": [],
   "source": [
    "datapath_data = os.path.join('../data/raw_data', 'pre_selection.json')\n",
    "if not os.path.exists(datapath_data):\n",
    "    selected_df.to_json(datapath_data)"
   ]
  },
  {
   "cell_type": "code",
   "execution_count": 23,
   "id": "greek-wings",
   "metadata": {},
   "outputs": [],
   "source": [
    "datapath_data = os.path.join('../data/raw_data', 'data_links_id.json')\n",
    "if not os.path.exists(datapath_data):\n",
    "    df_links_id.to_json(datapath_data)"
   ]
  },
  {
   "cell_type": "markdown",
   "id": "massive-census",
   "metadata": {},
   "source": [
    "______________________________________________________________________"
   ]
  },
  {
   "cell_type": "markdown",
   "id": "conscious-calibration",
   "metadata": {},
   "source": [
    "# Creating full list of product_ids scraped"
   ]
  },
  {
   "cell_type": "code",
   "execution_count": 3,
   "id": "promising-corruption",
   "metadata": {},
   "outputs": [],
   "source": [
    "#Storing each raw json file in a dataframe \n",
    "with open('../data/raw_data/cleansers_full.json', 'r') as file:\n",
    "    raw_data= json.load(file)\n",
    "cleansers_raw=pd.DataFrame.from_dict(raw_data)\n",
    "\n",
    "with open('../data/raw_data/eye_products.json', 'r') as file:\n",
    "    raw_data= json.load(file)\n",
    "eyeproducts_raw=pd.DataFrame.from_dict(raw_data)\n",
    "\n",
    "with open('../data/raw_data/moisturizers_full.json', 'r') as file:\n",
    "    raw_data= json.load(file)\n",
    "moisturizers_raw=pd.DataFrame.from_dict(raw_data)\n",
    "\n",
    "with open('../data/raw_data/treatments_full.json', 'r') as file:\n",
    "    raw_data= json.load(file)\n",
    "treatments_raw=pd.DataFrame.from_dict(raw_data)"
   ]
  },
  {
   "cell_type": "code",
   "execution_count": 7,
   "id": "basic-analysis",
   "metadata": {},
   "outputs": [],
   "source": [
    "full_df= pd.concat([cleansers_raw, eyeproducts_raw, moisturizers_raw, treatments_raw])"
   ]
  },
  {
   "cell_type": "code",
   "execution_count": 8,
   "id": "short-register",
   "metadata": {},
   "outputs": [],
   "source": [
    "full_df['product_id']=full_df.weblink.str.partition(sep='grid:')[2]"
   ]
  },
  {
   "cell_type": "code",
   "execution_count": 19,
   "id": "weighted-marking",
   "metadata": {},
   "outputs": [],
   "source": [
    "#Also need to fix number of reviews \n",
    "full_df.drop(full_df[full_df['num_reviews'].isnull()].index, inplace=True)"
   ]
  },
  {
   "cell_type": "code",
   "execution_count": 20,
   "id": "hairy-pursuit",
   "metadata": {},
   "outputs": [],
   "source": [
    "#Cleaning num_reviews column\n",
    "full_df.loc[full_df.num_reviews.str.endswith('K'), 'num_reviews']=full_df.loc[full_df.num_reviews.str.endswith('K'), 'num_reviews'].str.strip('K').astype('float64')*1000\n",
    "full_df['num_reviews']=full_df['num_reviews'].astype('int64')"
   ]
  },
  {
   "cell_type": "code",
   "execution_count": 21,
   "id": "decimal-prophet",
   "metadata": {},
   "outputs": [],
   "source": [
    "full_df.reset_index(inplace=True)"
   ]
  },
  {
   "cell_type": "code",
   "execution_count": 22,
   "id": "scheduled-chrome",
   "metadata": {},
   "outputs": [
    {
     "name": "stdout",
     "output_type": "stream",
     "text": [
      "<class 'pandas.core.frame.DataFrame'>\n",
      "RangeIndex: 1825 entries, 0 to 1824\n",
      "Data columns (total 17 columns):\n",
      " #   Column             Non-Null Count  Dtype \n",
      "---  ------             --------------  ----- \n",
      " 0   level_0            1825 non-null   int64 \n",
      " 1   index              1825 non-null   int64 \n",
      " 2   brand              1825 non-null   object\n",
      " 3   name               1825 non-null   object\n",
      " 4   about the product  1825 non-null   object\n",
      " 5   weblink            1825 non-null   object\n",
      " 6   sub_category       1825 non-null   object\n",
      " 7   main_category      1825 non-null   object\n",
      " 8   num_likes          1825 non-null   object\n",
      " 9   img_link           1825 non-null   object\n",
      " 10  price              1809 non-null   object\n",
      " 11  size               1599 non-null   object\n",
      " 12  ingredients        1825 non-null   object\n",
      " 13  rating             1825 non-null   object\n",
      " 14  num_reviews        1825 non-null   int64 \n",
      " 15  highlights         1825 non-null   object\n",
      " 16  product_id         1825 non-null   object\n",
      "dtypes: int64(3), object(14)\n",
      "memory usage: 242.5+ KB\n"
     ]
    }
   ],
   "source": [
    "full_df.info()"
   ]
  },
  {
   "cell_type": "code",
   "execution_count": 24,
   "id": "political-marshall",
   "metadata": {},
   "outputs": [],
   "source": [
    "datapath3 = os.path.join('../data/raw_data', 'preprocessed_full.json')\n",
    "if not os.path.exists(datapath3):\n",
    "    full_df.to_json(datapath3)"
   ]
  },
  {
   "cell_type": "code",
   "execution_count": null,
   "id": "usual-easter",
   "metadata": {},
   "outputs": [],
   "source": []
  }
 ],
 "metadata": {
  "kernelspec": {
   "display_name": "Python 3",
   "language": "python",
   "name": "python3"
  },
  "language_info": {
   "codemirror_mode": {
    "name": "ipython",
    "version": 3
   },
   "file_extension": ".py",
   "mimetype": "text/x-python",
   "name": "python",
   "nbconvert_exporter": "python",
   "pygments_lexer": "ipython3",
   "version": "3.8.3"
  }
 },
 "nbformat": 4,
 "nbformat_minor": 5
}
